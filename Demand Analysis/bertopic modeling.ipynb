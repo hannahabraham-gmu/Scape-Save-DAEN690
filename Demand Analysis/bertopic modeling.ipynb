{
 "cells": [
  {
   "attachments": {},
   "cell_type": "markdown",
   "metadata": {},
   "source": [
    "### Topic Modeling: Demand for Cybersecurity Professionals  "
   ]
  },
  {
   "cell_type": "code",
   "execution_count": 1,
   "metadata": {},
   "outputs": [],
   "source": [
    "import pandas as pd \n",
    "import numpy as np\n",
    "import nltk \n",
    "from nltk.corpus import stopwords \n",
    "import re\n",
    "import string\n",
    "\n",
    "from sklearn.feature_extraction.text import CountVectorizer\n",
    "from sklearn.metrics.pairwise import cosine_similarity"
   ]
  },
  {
   "attachments": {},
   "cell_type": "markdown",
   "metadata": {},
   "source": [
    "#### Data Preprocessing \n",
    "Indeed Data "
   ]
  },
  {
   "cell_type": "code",
   "execution_count": 2,
   "metadata": {},
   "outputs": [],
   "source": [
    "df = pd.read_csv(\"C:/Users/hanna/Scape-Save-DAEN690/Datasets/indeed_cleaned.csv.gz\")"
   ]
  },
  {
   "cell_type": "code",
   "execution_count": 3,
   "metadata": {},
   "outputs": [],
   "source": [
    "#Remove duplicate postings if the job title, description and location are the same \n",
    "df.drop_duplicates(subset=['job_title', 'description_text', 'location'], inplace=True)"
   ]
  },
  {
   "cell_type": "code",
   "execution_count": 4,
   "metadata": {},
   "outputs": [
    {
     "name": "stderr",
     "output_type": "stream",
     "text": [
      "C:\\Users\\hanna\\AppData\\Local\\Temp\\ipykernel_10932\\3687522721.py:6: FutureWarning: The default value of regex will change from True to False in a future version.\n",
      "  df['description_text'] = df['description_text'].str.replace('\\d+', '')\n",
      "C:\\Users\\hanna\\AppData\\Local\\Temp\\ipykernel_10932\\3687522721.py:8: FutureWarning: The default value of regex will change from True to False in a future version.\n",
      "  df['description_text'] = df['description_text'].str.replace('http\\S+|www.\\S+', '', case=False)\n"
     ]
    }
   ],
   "source": [
    "#Set to lower case so capitalized titles don't get counted separately\n",
    "df['job_title'] = df['job_title'].apply(lambda x: str(x).lower())\n",
    "#Set to lower case for job descriptions \n",
    "df['description_text'] = df['description_text'].apply(lambda x: str(x).lower())\n",
    "#remove numerical values from job description\n",
    "df['description_text'] = df['description_text'].str.replace('\\d+', '')\n",
    "#remove links from job description \n",
    "df['description_text'] = df['description_text'].str.replace('http\\S+|www.\\S+', '', case=False)\n",
    "\n"
   ]
  },
  {
   "cell_type": "code",
   "execution_count": 5,
   "metadata": {},
   "outputs": [
    {
     "data": {
      "text/html": [
       "<div>\n",
       "<style scoped>\n",
       "    .dataframe tbody tr th:only-of-type {\n",
       "        vertical-align: middle;\n",
       "    }\n",
       "\n",
       "    .dataframe tbody tr th {\n",
       "        vertical-align: top;\n",
       "    }\n",
       "\n",
       "    .dataframe thead th {\n",
       "        text-align: right;\n",
       "    }\n",
       "</style>\n",
       "<table border=\"1\" class=\"dataframe\">\n",
       "  <thead>\n",
       "    <tr style=\"text-align: right;\">\n",
       "      <th></th>\n",
       "      <th>company_name</th>\n",
       "      <th>country</th>\n",
       "      <th>country_code</th>\n",
       "      <th>current_url</th>\n",
       "      <th>date_posted_parsed</th>\n",
       "      <th>description</th>\n",
       "      <th>description_text</th>\n",
       "      <th>domain</th>\n",
       "      <th>job_title</th>\n",
       "      <th>job_type</th>\n",
       "      <th>jobid</th>\n",
       "      <th>location</th>\n",
       "      <th>region</th>\n",
       "      <th>timestamp</th>\n",
       "      <th>qualifications</th>\n",
       "      <th>Unnamed: 15</th>\n",
       "    </tr>\n",
       "  </thead>\n",
       "  <tbody>\n",
       "    <tr>\n",
       "      <th>0</th>\n",
       "      <td>NaN</td>\n",
       "      <td>US</td>\n",
       "      <td>UM</td>\n",
       "      <td>https://www.indeed.com/viewjob?jk=00cf07391044...</td>\n",
       "      <td>NaN</td>\n",
       "      <td>&lt;div&gt;\\n &lt;p&gt;DomainTools is looking for a talent...</td>\n",
       "      <td>domaintools is looking for a talented senior a...</td>\n",
       "      <td>www.indeed.com</td>\n",
       "      <td>senior cyber security account executive (remot...</td>\n",
       "      <td>[\"Full-time\"]</td>\n",
       "      <td>00cf07391044c067</td>\n",
       "      <td>Remote</td>\n",
       "      <td>NaN</td>\n",
       "      <td>12/24/2022</td>\n",
       "      <td>NaN</td>\n",
       "      <td>NaN</td>\n",
       "    </tr>\n",
       "    <tr>\n",
       "      <th>1</th>\n",
       "      <td>BTS Software Solutions</td>\n",
       "      <td>US</td>\n",
       "      <td>NaN</td>\n",
       "      <td>https://www.indeed.com/viewjob?dae2824b04=b80b...</td>\n",
       "      <td>NaN</td>\n",
       "      <td>&lt;p&gt;&lt;b&gt;Cyber Defense Analyst III&lt;/b&gt;&lt;br&gt;&lt;b&gt;REQ ...</td>\n",
       "      <td>cyber defense analyst iiireq id: -just awarded...</td>\n",
       "      <td>www.indeed.com</td>\n",
       "      <td>cyber defense analyst iii</td>\n",
       "      <td>[\"Full-time\"]</td>\n",
       "      <td>395221d50cb09389</td>\n",
       "      <td>San Antonio, TX 78251</td>\n",
       "      <td>NaN</td>\n",
       "      <td>12/24/2022</td>\n",
       "      <td>NaN</td>\n",
       "      <td>NaN</td>\n",
       "    </tr>\n",
       "    <tr>\n",
       "      <th>2</th>\n",
       "      <td>Change Healthcare</td>\n",
       "      <td>US</td>\n",
       "      <td>US</td>\n",
       "      <td>https://www.indeed.com/viewjob?jk=434af1ddd634...</td>\n",
       "      <td>NaN</td>\n",
       "      <td>&lt;div&gt;\\n &lt;p&gt;&lt;b&gt;Title&lt;/b&gt;&lt;br&gt; Senior Cybersecuri...</td>\n",
       "      <td>title senior cybersecurity incident response a...</td>\n",
       "      <td>NaN</td>\n",
       "      <td>senior cybersecurity incident response analyst</td>\n",
       "      <td>[\"Full-time\"]</td>\n",
       "      <td>434af1ddd63444bf</td>\n",
       "      <td>South Carolina</td>\n",
       "      <td>NaN</td>\n",
       "      <td>07-03-2022</td>\n",
       "      <td>NaN</td>\n",
       "      <td>NaN</td>\n",
       "    </tr>\n",
       "    <tr>\n",
       "      <th>3</th>\n",
       "      <td>NaN</td>\n",
       "      <td>US</td>\n",
       "      <td>UM</td>\n",
       "      <td>https://www.indeed.com/viewjob?jk=1547fa2c6b50...</td>\n",
       "      <td>NaN</td>\n",
       "      <td>&lt;div&gt;\\n &lt;p&gt;&lt;b&gt;About the Team&lt;/b&gt;&lt;/p&gt; \\n &lt;p&gt; Jo...</td>\n",
       "      <td>about the team \\n  joining capco means joining...</td>\n",
       "      <td>www.indeed.com</td>\n",
       "      <td>managing principal - cybersecurity</td>\n",
       "      <td>NaN</td>\n",
       "      <td>1547fa2c6b504d38</td>\n",
       "      <td>Remote</td>\n",
       "      <td>NaN</td>\n",
       "      <td>12/24/2022</td>\n",
       "      <td>NaN</td>\n",
       "      <td>NaN</td>\n",
       "    </tr>\n",
       "    <tr>\n",
       "      <th>4</th>\n",
       "      <td>HALVIK</td>\n",
       "      <td>US</td>\n",
       "      <td>US</td>\n",
       "      <td>https://www.indeed.com/viewjob?jk=4770813092f5...</td>\n",
       "      <td>NaN</td>\n",
       "      <td>&lt;div&gt;\\n &lt;div&gt;\\n  &lt;div&gt;\\n   If you are looking ...</td>\n",
       "      <td>if you are looking for a rewarding career with...</td>\n",
       "      <td>www.indeed.com</td>\n",
       "      <td>cybersecurity systems analyst</td>\n",
       "      <td>[\"Full-time\"]</td>\n",
       "      <td>4770813092f57d23</td>\n",
       "      <td>Tampa, FL</td>\n",
       "      <td>NaN</td>\n",
       "      <td>12/24/2022</td>\n",
       "      <td>NaN</td>\n",
       "      <td>NaN</td>\n",
       "    </tr>\n",
       "    <tr>\n",
       "      <th>...</th>\n",
       "      <td>...</td>\n",
       "      <td>...</td>\n",
       "      <td>...</td>\n",
       "      <td>...</td>\n",
       "      <td>...</td>\n",
       "      <td>...</td>\n",
       "      <td>...</td>\n",
       "      <td>...</td>\n",
       "      <td>...</td>\n",
       "      <td>...</td>\n",
       "      <td>...</td>\n",
       "      <td>...</td>\n",
       "      <td>...</td>\n",
       "      <td>...</td>\n",
       "      <td>...</td>\n",
       "      <td>...</td>\n",
       "    </tr>\n",
       "    <tr>\n",
       "      <th>11877</th>\n",
       "      <td>Lighthouse Lab Services</td>\n",
       "      <td>US</td>\n",
       "      <td>US</td>\n",
       "      <td>https://www.indeed.com/viewjob?jk=c43bf16c68ee...</td>\n",
       "      <td>NaN</td>\n",
       "      <td>&lt;div&gt;\\n &lt;p&gt;Lighthouse Lab Services is excited ...</td>\n",
       "      <td>lighthouse lab services is excited to be worki...</td>\n",
       "      <td>indeed.com</td>\n",
       "      <td>director of it management (ciso)</td>\n",
       "      <td>[\"Full-time\"]</td>\n",
       "      <td>c43bf16c68ee5f6a</td>\n",
       "      <td>Atlanta, GA</td>\n",
       "      <td>NaN</td>\n",
       "      <td>7/20/2022</td>\n",
       "      <td>NaN</td>\n",
       "      <td>NaN</td>\n",
       "    </tr>\n",
       "    <tr>\n",
       "      <th>11879</th>\n",
       "      <td>NaN</td>\n",
       "      <td>US</td>\n",
       "      <td>US</td>\n",
       "      <td>https://www.indeed.com/viewjob?jk=8c317805cd78...</td>\n",
       "      <td>NaN</td>\n",
       "      <td>&lt;div&gt;\\n Note: By applying to this position you...</td>\n",
       "      <td>note: by applying to this position you will ha...</td>\n",
       "      <td>NaN</td>\n",
       "      <td>program manager, compliance, google cloud ciso</td>\n",
       "      <td>[\"Full-time\"]</td>\n",
       "      <td>8c317805cd7856c3</td>\n",
       "      <td>Raleigh, NC</td>\n",
       "      <td>NaN</td>\n",
       "      <td>07-03-2022</td>\n",
       "      <td>NaN</td>\n",
       "      <td>NaN</td>\n",
       "    </tr>\n",
       "    <tr>\n",
       "      <th>11880</th>\n",
       "      <td>Abnormal Security</td>\n",
       "      <td>US</td>\n",
       "      <td>US</td>\n",
       "      <td>https://www.indeed.com/viewjob?jk=d55a050f564b...</td>\n",
       "      <td>2022-06-25T10:31:20.963Z</td>\n",
       "      <td>&lt;div&gt;\\n &lt;h2 class=\"jobSectionHeader\"&gt;&lt;b&gt;About ...</td>\n",
       "      <td>about abnormal security \\n  users and companie...</td>\n",
       "      <td>NaN</td>\n",
       "      <td>head of program management - office of the ciso</td>\n",
       "      <td>NaN</td>\n",
       "      <td>d55a050f564b9d96</td>\n",
       "      <td>Washington, DC</td>\n",
       "      <td>NaN</td>\n",
       "      <td>07-03-2022</td>\n",
       "      <td>NaN</td>\n",
       "      <td>NaN</td>\n",
       "    </tr>\n",
       "    <tr>\n",
       "      <th>11881</th>\n",
       "      <td>Google</td>\n",
       "      <td>US</td>\n",
       "      <td>US</td>\n",
       "      <td>https://www.indeed.com/viewjob?jk=1f951e7bd07c...</td>\n",
       "      <td>NaN</td>\n",
       "      <td>&lt;div&gt;\\n Note: By applying to this position you...</td>\n",
       "      <td>note: by applying to this position you will ha...</td>\n",
       "      <td>NaN</td>\n",
       "      <td>lead technical program manager, compliance ena...</td>\n",
       "      <td>[\"Full-time\"]</td>\n",
       "      <td>1f951e7bd07c6a1b</td>\n",
       "      <td>Raleigh, NC</td>\n",
       "      <td>NaN</td>\n",
       "      <td>07-03-2022</td>\n",
       "      <td>NaN</td>\n",
       "      <td>NaN</td>\n",
       "    </tr>\n",
       "    <tr>\n",
       "      <th>11882</th>\n",
       "      <td>NaN</td>\n",
       "      <td>US</td>\n",
       "      <td>US</td>\n",
       "      <td>https://www.indeed.com/viewjob?8a4693919c=ddae...</td>\n",
       "      <td>NaN</td>\n",
       "      <td>&lt;div&gt;\\n &lt;div&gt;\\n  &lt;div&gt;\\n   &lt;div&gt;\\n    &lt;div&gt;\\n ...</td>\n",
       "      <td>who are we?\\n              altar’d state is a ...</td>\n",
       "      <td>www.indeed.com</td>\n",
       "      <td>director of it security (ciso)</td>\n",
       "      <td>[\"Full-time\"]</td>\n",
       "      <td>bab7b13e007abe9e</td>\n",
       "      <td>Maryville, TN</td>\n",
       "      <td>NaN</td>\n",
       "      <td>12/24/2022</td>\n",
       "      <td>NaN</td>\n",
       "      <td>NaN</td>\n",
       "    </tr>\n",
       "  </tbody>\n",
       "</table>\n",
       "<p>11494 rows × 16 columns</p>\n",
       "</div>"
      ],
      "text/plain": [
       "                  company_name country country_code  \\\n",
       "0                          NaN      US           UM   \n",
       "1       BTS Software Solutions      US          NaN   \n",
       "2            Change Healthcare      US           US   \n",
       "3                          NaN      US           UM   \n",
       "4                       HALVIK      US           US   \n",
       "...                        ...     ...          ...   \n",
       "11877  Lighthouse Lab Services      US           US   \n",
       "11879                      NaN      US           US   \n",
       "11880        Abnormal Security      US           US   \n",
       "11881                   Google      US           US   \n",
       "11882                      NaN      US           US   \n",
       "\n",
       "                                             current_url  \\\n",
       "0      https://www.indeed.com/viewjob?jk=00cf07391044...   \n",
       "1      https://www.indeed.com/viewjob?dae2824b04=b80b...   \n",
       "2      https://www.indeed.com/viewjob?jk=434af1ddd634...   \n",
       "3      https://www.indeed.com/viewjob?jk=1547fa2c6b50...   \n",
       "4      https://www.indeed.com/viewjob?jk=4770813092f5...   \n",
       "...                                                  ...   \n",
       "11877  https://www.indeed.com/viewjob?jk=c43bf16c68ee...   \n",
       "11879  https://www.indeed.com/viewjob?jk=8c317805cd78...   \n",
       "11880  https://www.indeed.com/viewjob?jk=d55a050f564b...   \n",
       "11881  https://www.indeed.com/viewjob?jk=1f951e7bd07c...   \n",
       "11882  https://www.indeed.com/viewjob?8a4693919c=ddae...   \n",
       "\n",
       "             date_posted_parsed  \\\n",
       "0                           NaN   \n",
       "1                           NaN   \n",
       "2                           NaN   \n",
       "3                           NaN   \n",
       "4                           NaN   \n",
       "...                         ...   \n",
       "11877                       NaN   \n",
       "11879                       NaN   \n",
       "11880  2022-06-25T10:31:20.963Z   \n",
       "11881                       NaN   \n",
       "11882                       NaN   \n",
       "\n",
       "                                             description  \\\n",
       "0      <div>\\n <p>DomainTools is looking for a talent...   \n",
       "1      <p><b>Cyber Defense Analyst III</b><br><b>REQ ...   \n",
       "2      <div>\\n <p><b>Title</b><br> Senior Cybersecuri...   \n",
       "3      <div>\\n <p><b>About the Team</b></p> \\n <p> Jo...   \n",
       "4      <div>\\n <div>\\n  <div>\\n   If you are looking ...   \n",
       "...                                                  ...   \n",
       "11877  <div>\\n <p>Lighthouse Lab Services is excited ...   \n",
       "11879  <div>\\n Note: By applying to this position you...   \n",
       "11880  <div>\\n <h2 class=\"jobSectionHeader\"><b>About ...   \n",
       "11881  <div>\\n Note: By applying to this position you...   \n",
       "11882  <div>\\n <div>\\n  <div>\\n   <div>\\n    <div>\\n ...   \n",
       "\n",
       "                                        description_text          domain  \\\n",
       "0      domaintools is looking for a talented senior a...  www.indeed.com   \n",
       "1      cyber defense analyst iiireq id: -just awarded...  www.indeed.com   \n",
       "2      title senior cybersecurity incident response a...             NaN   \n",
       "3      about the team \\n  joining capco means joining...  www.indeed.com   \n",
       "4      if you are looking for a rewarding career with...  www.indeed.com   \n",
       "...                                                  ...             ...   \n",
       "11877  lighthouse lab services is excited to be worki...      indeed.com   \n",
       "11879  note: by applying to this position you will ha...             NaN   \n",
       "11880  about abnormal security \\n  users and companie...             NaN   \n",
       "11881  note: by applying to this position you will ha...             NaN   \n",
       "11882  who are we?\\n              altar’d state is a ...  www.indeed.com   \n",
       "\n",
       "                                               job_title       job_type  \\\n",
       "0      senior cyber security account executive (remot...  [\"Full-time\"]   \n",
       "1                              cyber defense analyst iii  [\"Full-time\"]   \n",
       "2         senior cybersecurity incident response analyst  [\"Full-time\"]   \n",
       "3                     managing principal - cybersecurity            NaN   \n",
       "4                          cybersecurity systems analyst  [\"Full-time\"]   \n",
       "...                                                  ...            ...   \n",
       "11877                   director of it management (ciso)  [\"Full-time\"]   \n",
       "11879     program manager, compliance, google cloud ciso  [\"Full-time\"]   \n",
       "11880    head of program management - office of the ciso            NaN   \n",
       "11881  lead technical program manager, compliance ena...  [\"Full-time\"]   \n",
       "11882                     director of it security (ciso)  [\"Full-time\"]   \n",
       "\n",
       "                  jobid               location region   timestamp  \\\n",
       "0      00cf07391044c067                 Remote    NaN  12/24/2022   \n",
       "1      395221d50cb09389  San Antonio, TX 78251    NaN  12/24/2022   \n",
       "2      434af1ddd63444bf         South Carolina    NaN  07-03-2022   \n",
       "3      1547fa2c6b504d38                 Remote    NaN  12/24/2022   \n",
       "4      4770813092f57d23              Tampa, FL    NaN  12/24/2022   \n",
       "...                 ...                    ...    ...         ...   \n",
       "11877  c43bf16c68ee5f6a            Atlanta, GA    NaN   7/20/2022   \n",
       "11879  8c317805cd7856c3            Raleigh, NC    NaN  07-03-2022   \n",
       "11880  d55a050f564b9d96         Washington, DC    NaN  07-03-2022   \n",
       "11881  1f951e7bd07c6a1b            Raleigh, NC    NaN  07-03-2022   \n",
       "11882  bab7b13e007abe9e          Maryville, TN    NaN  12/24/2022   \n",
       "\n",
       "      qualifications  Unnamed: 15  \n",
       "0                NaN          NaN  \n",
       "1                NaN          NaN  \n",
       "2                NaN          NaN  \n",
       "3                NaN          NaN  \n",
       "4                NaN          NaN  \n",
       "...              ...          ...  \n",
       "11877            NaN          NaN  \n",
       "11879            NaN          NaN  \n",
       "11880            NaN          NaN  \n",
       "11881            NaN          NaN  \n",
       "11882            NaN          NaN  \n",
       "\n",
       "[11494 rows x 16 columns]"
      ]
     },
     "execution_count": 5,
     "metadata": {},
     "output_type": "execute_result"
    }
   ],
   "source": [
    "df"
   ]
  },
  {
   "cell_type": "code",
   "execution_count": 6,
   "metadata": {},
   "outputs": [],
   "source": [
    "#Create function to categorize role types \n",
    "\n",
    "def role_type(x):\n",
    "    if 'lead' in x:\n",
    "        return 'senior'\n",
    "    elif 'senior' in x:\n",
    "        return 'senior'\n",
    "    elif 'sr' in x:\n",
    "        return 'senior'\n",
    "    elif 'chief' in x:\n",
    "        return 'upper mgmt'\n",
    "    elif 'manager' in x:\n",
    "        return 'upper mgmt'\n",
    "    elif 'principal' in x:\n",
    "        return 'upper mgmt'\n",
    "    elif 'junior' in x:\n",
    "        return 'entry-level'\n",
    "    elif 'jr' in x:\n",
    "        return 'entry-level'\n",
    "    elif 'entry-level' in x:\n",
    "        return 'entry-level'\n",
    "    elif 'entry level' in x:\n",
    "        return 'entry-level'\n",
    "    elif 'professor' in x: \n",
    "        return 'academia'\n",
    "    else:\n",
    "        return 'other'\n",
    "    \n",
    "df['role_type'] = df['job_title'].apply(role_type)\n",
    "\n",
    "#Can be used for visualizations \n",
    "job_df = df.groupby('role_type').count().reset_index()[['role_type', 'job_title']]\n"
   ]
  },
  {
   "cell_type": "code",
   "execution_count": 7,
   "metadata": {},
   "outputs": [
    {
     "name": "stderr",
     "output_type": "stream",
     "text": [
      "C:\\Users\\hanna\\AppData\\Local\\Temp\\ipykernel_10932\\4223882918.py:21: SettingWithCopyWarning: \n",
      "A value is trying to be set on a copy of a slice from a DataFrame.\n",
      "Try using .loc[row_indexer,col_indexer] = value instead\n",
      "\n",
      "See the caveats in the documentation: https://pandas.pydata.org/pandas-docs/stable/user_guide/indexing.html#returning-a-view-versus-a-copy\n",
      "  cos_rem['i*j'] = cos_rem['i'] * cos_rem['j']\n"
     ]
    }
   ],
   "source": [
    "#Comparing job descriptions using cosine similarity will help remove job descriptions that are almost identical with additional word difference \n",
    "#Helps reduce processing time of the model \n",
    "\n",
    "corpus= df['description_text']\n",
    "\n",
    "count_vect = CountVectorizer()\n",
    "\n",
    "x_counts = count_vect.fit_transform(corpus)\n",
    "\n",
    "cos_df = pd.DataFrame(cosine_similarity(x_counts))\n",
    " \n",
    "i, j = np.indices(cos_df.shape).reshape(2, -1)\n",
    "\n",
    "cos_values = cos_df.values.reshape(-1)\n",
    "\n",
    "cos_sim_df = pd.DataFrame({'i': i, 'j': j, 'score':cos_values})\n",
    "\n",
    "#similarity score >0.99 indicates that the job descriptions are very similar with slight variations in wordings\n",
    "cos_rem = cos_sim_df[(cos_sim_df['score']>0.99)&(i!=j)]\n",
    "\n",
    "cos_rem['i*j'] = cos_rem['i'] * cos_rem['j']\n",
    "drop_rows = np.unique(cos_rem.drop_duplicates(subset=['i*j'], keep='first')['i'].values)\n",
    "\n",
    "#Drop rows with >0.99 similarity score from original dataframe\n",
    "df = df[~df.index.isin(drop_rows)]\n",
    "df = df.reset_index()\n",
    "df.drop(columns={'index'}, inplace=True)"
   ]
  },
  {
   "attachments": {},
   "cell_type": "markdown",
   "metadata": {},
   "source": [
    "CareerOneStop Data"
   ]
  },
  {
   "cell_type": "code",
   "execution_count": 8,
   "metadata": {},
   "outputs": [],
   "source": [
    "cos_df = pd.read_excel(\"C:/Users/hanna/Scape-Save-DAEN690/Datasets/careeronestop_data.xlsx\") "
   ]
  },
  {
   "cell_type": "code",
   "execution_count": 9,
   "metadata": {},
   "outputs": [],
   "source": [
    "cos_df.drop_duplicates(subset=['job_title', 'description', 'location'], inplace=True)\n",
    "#Set to lower case so capitalized titles don't get counted separately\n",
    "cos_df['job_title'] = cos_df['job_title'].apply(lambda x: str(x).lower())"
   ]
  },
  {
   "cell_type": "code",
   "execution_count": 10,
   "metadata": {},
   "outputs": [
    {
     "name": "stderr",
     "output_type": "stream",
     "text": [
      "C:\\Users\\hanna\\AppData\\Local\\Temp\\ipykernel_10932\\3466247793.py:6: FutureWarning: The default value of regex will change from True to False in a future version.\n",
      "  cos_df['description'] = cos_df['description'].str.replace('\\d+', '')\n",
      "C:\\Users\\hanna\\AppData\\Local\\Temp\\ipykernel_10932\\3466247793.py:8: FutureWarning: The default value of regex will change from True to False in a future version.\n",
      "  cos_df['description'] = cos_df['description'].str.replace('http\\S+|www.\\S+', '', case=False)\n"
     ]
    }
   ],
   "source": [
    "#Set to lower case so capitalized titles don't get counted separately\n",
    "cos_df['job_title'] = cos_df['job_title'].apply(lambda x: x.lower())\n",
    "#Set to lower case for job descriptions \n",
    "cos_df['description'] = cos_df['description'].apply(lambda x: str(x).lower())\n",
    "#remove numerical values from job description\n",
    "cos_df['description'] = cos_df['description'].str.replace('\\d+', '')\n",
    "#remove links from job description \n",
    "cos_df['description'] = cos_df['description'].str.replace('http\\S+|www.\\S+', '', case=False)"
   ]
  },
  {
   "cell_type": "code",
   "execution_count": 11,
   "metadata": {},
   "outputs": [],
   "source": [
    "#apply function to add job roles \n",
    "cos_df['role_type'] = cos_df['job_title'].apply(role_type)\n",
    "\n",
    "job_df = cos_df.groupby('role_type').count().reset_index()[['role_type', 'job_title']]"
   ]
  },
  {
   "cell_type": "code",
   "execution_count": 12,
   "metadata": {},
   "outputs": [
    {
     "data": {
      "text/plain": [
       "(8920, 8)"
      ]
     },
     "execution_count": 12,
     "metadata": {},
     "output_type": "execute_result"
    }
   ],
   "source": [
    "cos_df.shape"
   ]
  },
  {
   "cell_type": "code",
   "execution_count": 13,
   "metadata": {},
   "outputs": [
    {
     "name": "stderr",
     "output_type": "stream",
     "text": [
      "C:\\Users\\hanna\\AppData\\Local\\Temp\\ipykernel_10932\\3343239553.py:18: SettingWithCopyWarning: \n",
      "A value is trying to be set on a copy of a slice from a DataFrame.\n",
      "Try using .loc[row_indexer,col_indexer] = value instead\n",
      "\n",
      "See the caveats in the documentation: https://pandas.pydata.org/pandas-docs/stable/user_guide/indexing.html#returning-a-view-versus-a-copy\n",
      "  cos_rem['i*j'] = cos_rem['i'] * cos_rem['j']\n"
     ]
    }
   ],
   "source": [
    "corpus= cos_df['description']\n",
    "\n",
    "count_vect = CountVectorizer()\n",
    "\n",
    "x_count_cos = count_vect.fit_transform(corpus.values.astype('U'))\n",
    "\n",
    "cosi_df = pd.DataFrame(cosine_similarity(x_count_cos))\n",
    "\n",
    "i, j = np.indices(cosi_df.shape).reshape(2, -1)\n",
    "\n",
    "cos_values = cosi_df.values.reshape(-1)\n",
    "\n",
    "cos_sim_df = pd.DataFrame({'i': i, 'j': j, 'score':cos_values})\n",
    "\n",
    "#similarity score >0.99 indicates that the job descriptions are very similar with slight variations in wordings \n",
    "cos_rem = cos_sim_df[(cos_sim_df['score']>0.99)&(i!=j)]\n",
    "\n",
    "cos_rem['i*j'] = cos_rem['i'] * cos_rem['j']\n",
    "drop_rows = np.unique(cos_rem.drop_duplicates(subset=['i*j'], keep='first')['i'].values)\n",
    "\n",
    "cos_df = cos_df[~cos_df.index.isin(drop_rows)]\n",
    "cos_df = cos_df.reset_index()\n",
    "cos_df.drop(columns={'index'}, inplace=True)"
   ]
  },
  {
   "attachments": {},
   "cell_type": "markdown",
   "metadata": {},
   "source": [
    "#### BERTopic Algorithm"
   ]
  },
  {
   "cell_type": "code",
   "execution_count": 41,
   "metadata": {},
   "outputs": [],
   "source": [
    "from umap import UMAP\n",
    "from hdbscan import HDBSCAN\n",
    "from bertopic import BERTopic \n",
    "from sklearn.cluster import KMeans\n",
    "from sentence_transformers import SentenceTransformer\n",
    "from sklearn.feature_extraction.text import CountVectorizer\n",
    "from bertopic.representation import MaximalMarginalRelevance\n",
    "from bertopic.vectorizers import ClassTfidfTransformer\n",
    "\n",
    "# Step 1 - Extract embeddings\n",
    "embedding_model = SentenceTransformer(\"all-MiniLM-L6-v2\")\n",
    "\n",
    "# Step 2 - Reduce dimensionality\n",
    "umap_model = UMAP(n_neighbors=10, n_components=5, min_dist=0.0, metric='cosine', random_state=42)\n",
    "\n",
    "# Step 3 - Cluster reduced embeddings\n",
    "hdbscan_model = HDBSCAN(min_cluster_size=40, metric='euclidean', cluster_selection_method='eom', prediction_data=True)\n",
    "#cluster_model = KMeans(n_clusters=10)\n",
    "\n",
    "# Step 4 - Tokenize topics\n",
    "# ngram_range set to 2 so the topics extracted can also be 'two-words' instead of one \n",
    "vectorizer_model = CountVectorizer(ngram_range=(1,2), stop_words=\"english\")\n",
    "\n",
    "# Step 5 - Create topic representation\n",
    "ctfidf_model = ClassTfidfTransformer()\n",
    "\n",
    "# Step 6 - Fine-tune topic representations with \n",
    "# reduces redundacy and improve diversity of keywords using MMR \n",
    "representation_model = MaximalMarginalRelevance(0.6)\n",
    "\n",
    "topic_model = BERTopic(\n",
    "  embedding_model=embedding_model, # Step 1: Embedding        \n",
    "  umap_model=umap_model, # Step 2: Dimensionality reduction                   \n",
    "  hdbscan_model=hdbscan_model, # Step 3: Clustering              \n",
    "  vectorizer_model=vectorizer_model, # Step 4: Tokenizer         \n",
    "  ctfidf_model=ctfidf_model, # Step 5: Weighting scheme                \n",
    "  representation_model=representation_model, nr_topics=\"auto\") # Step 6: Fine-tune topic representation \n",
    "\n",
    "topic_model_in = BERTopic(\n",
    "  embedding_model=embedding_model,          \n",
    "  umap_model=umap_model,                    \n",
    "  hdbscan_model=hdbscan_model,              \n",
    "  vectorizer_model=vectorizer_model,       \n",
    "  ctfidf_model=ctfidf_model,                \n",
    "  representation_model=representation_model) "
   ]
  },
  {
   "cell_type": "code",
   "execution_count": 42,
   "metadata": {},
   "outputs": [],
   "source": [
    "#CareerOneStop model\n",
    "topic, prob = topic_model.fit_transform(cos_df['description'].values.astype('U'))"
   ]
  },
  {
   "cell_type": "code",
   "execution_count": 49,
   "metadata": {},
   "outputs": [],
   "source": [
    "#Indeed Model\n",
    "topic_in, prob_in = topic_model_in.fit_transform(df['description_text']) \n"
   ]
  },
  {
   "cell_type": "code",
   "execution_count": 45,
   "metadata": {},
   "outputs": [
    {
     "data": {
      "text/html": [
       "<div>\n",
       "<style scoped>\n",
       "    .dataframe tbody tr th:only-of-type {\n",
       "        vertical-align: middle;\n",
       "    }\n",
       "\n",
       "    .dataframe tbody tr th {\n",
       "        vertical-align: top;\n",
       "    }\n",
       "\n",
       "    .dataframe thead th {\n",
       "        text-align: right;\n",
       "    }\n",
       "</style>\n",
       "<table border=\"1\" class=\"dataframe\">\n",
       "  <thead>\n",
       "    <tr style=\"text-align: right;\">\n",
       "      <th></th>\n",
       "      <th>Topic</th>\n",
       "      <th>Count</th>\n",
       "    </tr>\n",
       "  </thead>\n",
       "  <tbody>\n",
       "    <tr>\n",
       "      <th>0</th>\n",
       "      <td>0</td>\n",
       "      <td>2371</td>\n",
       "    </tr>\n",
       "    <tr>\n",
       "      <th>1</th>\n",
       "      <td>-1</td>\n",
       "      <td>827</td>\n",
       "    </tr>\n",
       "    <tr>\n",
       "      <th>2</th>\n",
       "      <td>1</td>\n",
       "      <td>267</td>\n",
       "    </tr>\n",
       "    <tr>\n",
       "      <th>3</th>\n",
       "      <td>2</td>\n",
       "      <td>188</td>\n",
       "    </tr>\n",
       "    <tr>\n",
       "      <th>4</th>\n",
       "      <td>3</td>\n",
       "      <td>101</td>\n",
       "    </tr>\n",
       "    <tr>\n",
       "      <th>5</th>\n",
       "      <td>4</td>\n",
       "      <td>92</td>\n",
       "    </tr>\n",
       "    <tr>\n",
       "      <th>6</th>\n",
       "      <td>5</td>\n",
       "      <td>83</td>\n",
       "    </tr>\n",
       "    <tr>\n",
       "      <th>7</th>\n",
       "      <td>6</td>\n",
       "      <td>76</td>\n",
       "    </tr>\n",
       "    <tr>\n",
       "      <th>8</th>\n",
       "      <td>7</td>\n",
       "      <td>70</td>\n",
       "    </tr>\n",
       "    <tr>\n",
       "      <th>9</th>\n",
       "      <td>8</td>\n",
       "      <td>67</td>\n",
       "    </tr>\n",
       "    <tr>\n",
       "      <th>10</th>\n",
       "      <td>9</td>\n",
       "      <td>63</td>\n",
       "    </tr>\n",
       "    <tr>\n",
       "      <th>11</th>\n",
       "      <td>10</td>\n",
       "      <td>59</td>\n",
       "    </tr>\n",
       "    <tr>\n",
       "      <th>12</th>\n",
       "      <td>11</td>\n",
       "      <td>57</td>\n",
       "    </tr>\n",
       "    <tr>\n",
       "      <th>13</th>\n",
       "      <td>12</td>\n",
       "      <td>56</td>\n",
       "    </tr>\n",
       "    <tr>\n",
       "      <th>14</th>\n",
       "      <td>13</td>\n",
       "      <td>55</td>\n",
       "    </tr>\n",
       "    <tr>\n",
       "      <th>15</th>\n",
       "      <td>14</td>\n",
       "      <td>54</td>\n",
       "    </tr>\n",
       "    <tr>\n",
       "      <th>16</th>\n",
       "      <td>15</td>\n",
       "      <td>52</td>\n",
       "    </tr>\n",
       "    <tr>\n",
       "      <th>17</th>\n",
       "      <td>16</td>\n",
       "      <td>52</td>\n",
       "    </tr>\n",
       "    <tr>\n",
       "      <th>18</th>\n",
       "      <td>17</td>\n",
       "      <td>49</td>\n",
       "    </tr>\n",
       "    <tr>\n",
       "      <th>19</th>\n",
       "      <td>18</td>\n",
       "      <td>49</td>\n",
       "    </tr>\n",
       "    <tr>\n",
       "      <th>20</th>\n",
       "      <td>19</td>\n",
       "      <td>49</td>\n",
       "    </tr>\n",
       "    <tr>\n",
       "      <th>21</th>\n",
       "      <td>20</td>\n",
       "      <td>47</td>\n",
       "    </tr>\n",
       "    <tr>\n",
       "      <th>22</th>\n",
       "      <td>21</td>\n",
       "      <td>46</td>\n",
       "    </tr>\n",
       "    <tr>\n",
       "      <th>23</th>\n",
       "      <td>22</td>\n",
       "      <td>46</td>\n",
       "    </tr>\n",
       "    <tr>\n",
       "      <th>24</th>\n",
       "      <td>23</td>\n",
       "      <td>46</td>\n",
       "    </tr>\n",
       "    <tr>\n",
       "      <th>25</th>\n",
       "      <td>24</td>\n",
       "      <td>45</td>\n",
       "    </tr>\n",
       "    <tr>\n",
       "      <th>26</th>\n",
       "      <td>25</td>\n",
       "      <td>44</td>\n",
       "    </tr>\n",
       "    <tr>\n",
       "      <th>27</th>\n",
       "      <td>26</td>\n",
       "      <td>44</td>\n",
       "    </tr>\n",
       "    <tr>\n",
       "      <th>28</th>\n",
       "      <td>27</td>\n",
       "      <td>44</td>\n",
       "    </tr>\n",
       "  </tbody>\n",
       "</table>\n",
       "</div>"
      ],
      "text/plain": [
       "    Topic  Count\n",
       "0       0   2371\n",
       "1      -1    827\n",
       "2       1    267\n",
       "3       2    188\n",
       "4       3    101\n",
       "5       4     92\n",
       "6       5     83\n",
       "7       6     76\n",
       "8       7     70\n",
       "9       8     67\n",
       "10      9     63\n",
       "11     10     59\n",
       "12     11     57\n",
       "13     12     56\n",
       "14     13     55\n",
       "15     14     54\n",
       "16     15     52\n",
       "17     16     52\n",
       "18     17     49\n",
       "19     18     49\n",
       "20     19     49\n",
       "21     20     47\n",
       "22     21     46\n",
       "23     22     46\n",
       "24     23     46\n",
       "25     24     45\n",
       "26     25     44\n",
       "27     26     44\n",
       "28     27     44"
      ]
     },
     "execution_count": 45,
     "metadata": {},
     "output_type": "execute_result"
    }
   ],
   "source": [
    "#before topic reduction: model contains 242 topics \n",
    "topic_model.get_topic_freq()"
   ]
  },
  {
   "cell_type": "code",
   "execution_count": 50,
   "metadata": {},
   "outputs": [
    {
     "data": {
      "text/html": [
       "<div>\n",
       "<style scoped>\n",
       "    .dataframe tbody tr th:only-of-type {\n",
       "        vertical-align: middle;\n",
       "    }\n",
       "\n",
       "    .dataframe tbody tr th {\n",
       "        vertical-align: top;\n",
       "    }\n",
       "\n",
       "    .dataframe thead th {\n",
       "        text-align: right;\n",
       "    }\n",
       "</style>\n",
       "<table border=\"1\" class=\"dataframe\">\n",
       "  <thead>\n",
       "    <tr style=\"text-align: right;\">\n",
       "      <th></th>\n",
       "      <th>Topic</th>\n",
       "      <th>Count</th>\n",
       "    </tr>\n",
       "  </thead>\n",
       "  <tbody>\n",
       "    <tr>\n",
       "      <th>0</th>\n",
       "      <td>-1</td>\n",
       "      <td>4678</td>\n",
       "    </tr>\n",
       "    <tr>\n",
       "      <th>1</th>\n",
       "      <td>0</td>\n",
       "      <td>969</td>\n",
       "    </tr>\n",
       "    <tr>\n",
       "      <th>2</th>\n",
       "      <td>1</td>\n",
       "      <td>410</td>\n",
       "    </tr>\n",
       "    <tr>\n",
       "      <th>3</th>\n",
       "      <td>2</td>\n",
       "      <td>215</td>\n",
       "    </tr>\n",
       "    <tr>\n",
       "      <th>4</th>\n",
       "      <td>3</td>\n",
       "      <td>187</td>\n",
       "    </tr>\n",
       "    <tr>\n",
       "      <th>5</th>\n",
       "      <td>4</td>\n",
       "      <td>183</td>\n",
       "    </tr>\n",
       "    <tr>\n",
       "      <th>6</th>\n",
       "      <td>5</td>\n",
       "      <td>182</td>\n",
       "    </tr>\n",
       "    <tr>\n",
       "      <th>7</th>\n",
       "      <td>6</td>\n",
       "      <td>136</td>\n",
       "    </tr>\n",
       "    <tr>\n",
       "      <th>8</th>\n",
       "      <td>7</td>\n",
       "      <td>119</td>\n",
       "    </tr>\n",
       "    <tr>\n",
       "      <th>9</th>\n",
       "      <td>8</td>\n",
       "      <td>119</td>\n",
       "    </tr>\n",
       "    <tr>\n",
       "      <th>10</th>\n",
       "      <td>9</td>\n",
       "      <td>106</td>\n",
       "    </tr>\n",
       "    <tr>\n",
       "      <th>11</th>\n",
       "      <td>10</td>\n",
       "      <td>87</td>\n",
       "    </tr>\n",
       "    <tr>\n",
       "      <th>12</th>\n",
       "      <td>11</td>\n",
       "      <td>81</td>\n",
       "    </tr>\n",
       "    <tr>\n",
       "      <th>13</th>\n",
       "      <td>12</td>\n",
       "      <td>76</td>\n",
       "    </tr>\n",
       "    <tr>\n",
       "      <th>14</th>\n",
       "      <td>13</td>\n",
       "      <td>75</td>\n",
       "    </tr>\n",
       "    <tr>\n",
       "      <th>15</th>\n",
       "      <td>14</td>\n",
       "      <td>75</td>\n",
       "    </tr>\n",
       "    <tr>\n",
       "      <th>16</th>\n",
       "      <td>15</td>\n",
       "      <td>70</td>\n",
       "    </tr>\n",
       "    <tr>\n",
       "      <th>17</th>\n",
       "      <td>16</td>\n",
       "      <td>68</td>\n",
       "    </tr>\n",
       "    <tr>\n",
       "      <th>18</th>\n",
       "      <td>17</td>\n",
       "      <td>62</td>\n",
       "    </tr>\n",
       "    <tr>\n",
       "      <th>19</th>\n",
       "      <td>18</td>\n",
       "      <td>61</td>\n",
       "    </tr>\n",
       "    <tr>\n",
       "      <th>20</th>\n",
       "      <td>19</td>\n",
       "      <td>60</td>\n",
       "    </tr>\n",
       "    <tr>\n",
       "      <th>21</th>\n",
       "      <td>20</td>\n",
       "      <td>55</td>\n",
       "    </tr>\n",
       "    <tr>\n",
       "      <th>22</th>\n",
       "      <td>21</td>\n",
       "      <td>53</td>\n",
       "    </tr>\n",
       "    <tr>\n",
       "      <th>23</th>\n",
       "      <td>22</td>\n",
       "      <td>50</td>\n",
       "    </tr>\n",
       "    <tr>\n",
       "      <th>24</th>\n",
       "      <td>23</td>\n",
       "      <td>48</td>\n",
       "    </tr>\n",
       "    <tr>\n",
       "      <th>25</th>\n",
       "      <td>24</td>\n",
       "      <td>46</td>\n",
       "    </tr>\n",
       "    <tr>\n",
       "      <th>26</th>\n",
       "      <td>25</td>\n",
       "      <td>46</td>\n",
       "    </tr>\n",
       "    <tr>\n",
       "      <th>27</th>\n",
       "      <td>26</td>\n",
       "      <td>41</td>\n",
       "    </tr>\n",
       "    <tr>\n",
       "      <th>28</th>\n",
       "      <td>27</td>\n",
       "      <td>41</td>\n",
       "    </tr>\n",
       "    <tr>\n",
       "      <th>29</th>\n",
       "      <td>28</td>\n",
       "      <td>41</td>\n",
       "    </tr>\n",
       "    <tr>\n",
       "      <th>30</th>\n",
       "      <td>29</td>\n",
       "      <td>41</td>\n",
       "    </tr>\n",
       "    <tr>\n",
       "      <th>31</th>\n",
       "      <td>30</td>\n",
       "      <td>41</td>\n",
       "    </tr>\n",
       "  </tbody>\n",
       "</table>\n",
       "</div>"
      ],
      "text/plain": [
       "    Topic  Count\n",
       "0      -1   4678\n",
       "1       0    969\n",
       "2       1    410\n",
       "3       2    215\n",
       "4       3    187\n",
       "5       4    183\n",
       "6       5    182\n",
       "7       6    136\n",
       "8       7    119\n",
       "9       8    119\n",
       "10      9    106\n",
       "11     10     87\n",
       "12     11     81\n",
       "13     12     76\n",
       "14     13     75\n",
       "15     14     75\n",
       "16     15     70\n",
       "17     16     68\n",
       "18     17     62\n",
       "19     18     61\n",
       "20     19     60\n",
       "21     20     55\n",
       "22     21     53\n",
       "23     22     50\n",
       "24     23     48\n",
       "25     24     46\n",
       "26     25     46\n",
       "27     26     41\n",
       "28     27     41\n",
       "29     28     41\n",
       "30     29     41\n",
       "31     30     41"
      ]
     },
     "execution_count": 50,
     "metadata": {},
     "output_type": "execute_result"
    }
   ],
   "source": [
    "topic_model_in.get_topic_freq()"
   ]
  },
  {
   "cell_type": "code",
   "execution_count": 46,
   "metadata": {},
   "outputs": [
    {
     "ename": "KeyboardInterrupt",
     "evalue": "",
     "output_type": "error",
     "traceback": [
      "\u001b[1;31m---------------------------------------------------------------------------\u001b[0m",
      "\u001b[1;31mKeyboardInterrupt\u001b[0m                         Traceback (most recent call last)",
      "\u001b[1;32mc:\\Users\\hanna\\Scape-Save-DAEN690\\Demand Analysis\\bertopic modeling.ipynb Cell 22\u001b[0m in \u001b[0;36m<cell line: 3>\u001b[1;34m()\u001b[0m\n\u001b[0;32m      <a href='vscode-notebook-cell:/c%3A/Users/hanna/Scape-Save-DAEN690/Demand%20Analysis/bertopic%20modeling.ipynb#X30sZmlsZQ%3D%3D?line=0'>1</a>\u001b[0m \u001b[39m#topic reduction model, reduce topic count to 50 \u001b[39;00m\n\u001b[1;32m----> <a href='vscode-notebook-cell:/c%3A/Users/hanna/Scape-Save-DAEN690/Demand%20Analysis/bertopic%20modeling.ipynb#X30sZmlsZQ%3D%3D?line=2'>3</a>\u001b[0m topic_model\u001b[39m.\u001b[39;49mreduce_topics(cos_df[\u001b[39m'\u001b[39;49m\u001b[39mdescription\u001b[39;49m\u001b[39m'\u001b[39;49m], nr_topics\u001b[39m=\u001b[39;49m\u001b[39m50\u001b[39;49m)\n\u001b[0;32m      <a href='vscode-notebook-cell:/c%3A/Users/hanna/Scape-Save-DAEN690/Demand%20Analysis/bertopic%20modeling.ipynb#X30sZmlsZQ%3D%3D?line=3'>4</a>\u001b[0m topics \u001b[39m=\u001b[39m topic_model\u001b[39m.\u001b[39mtopics_\n",
      "File \u001b[1;32m~\\AppData\\Local\\Packages\\PythonSoftwareFoundation.Python.3.9_qbz5n2kfra8p0\\LocalCache\\local-packages\\Python39\\site-packages\\bertopic\\_bertopic.py:1862\u001b[0m, in \u001b[0;36mBERTopic.reduce_topics\u001b[1;34m(self, docs, nr_topics)\u001b[0m\n\u001b[0;32m   1860\u001b[0m documents \u001b[39m=\u001b[39m \u001b[39mself\u001b[39m\u001b[39m.\u001b[39m_reduce_topics(documents)\n\u001b[0;32m   1861\u001b[0m \u001b[39mself\u001b[39m\u001b[39m.\u001b[39m_merged_topics \u001b[39m=\u001b[39m \u001b[39mNone\u001b[39;00m\n\u001b[1;32m-> 1862\u001b[0m \u001b[39mself\u001b[39;49m\u001b[39m.\u001b[39;49m_save_representative_docs(documents)\n\u001b[0;32m   1863\u001b[0m \u001b[39mself\u001b[39m\u001b[39m.\u001b[39mprobabilities_ \u001b[39m=\u001b[39m \u001b[39mself\u001b[39m\u001b[39m.\u001b[39m_map_probabilities(\u001b[39mself\u001b[39m\u001b[39m.\u001b[39mprobabilities_)\n\u001b[0;32m   1865\u001b[0m \u001b[39mreturn\u001b[39;00m \u001b[39mself\u001b[39m\n",
      "File \u001b[1;32m~\\AppData\\Local\\Packages\\PythonSoftwareFoundation.Python.3.9_qbz5n2kfra8p0\\LocalCache\\local-packages\\Python39\\site-packages\\bertopic\\_bertopic.py:2996\u001b[0m, in \u001b[0;36mBERTopic._save_representative_docs\u001b[1;34m(self, documents)\u001b[0m\n\u001b[0;32m   2987\u001b[0m \u001b[39mdef\u001b[39;00m \u001b[39m_save_representative_docs\u001b[39m(\u001b[39mself\u001b[39m, documents: pd\u001b[39m.\u001b[39mDataFrame):\n\u001b[0;32m   2988\u001b[0m \u001b[39m    \u001b[39m\u001b[39m\"\"\" Save the 3 most representative docs per topic\u001b[39;00m\n\u001b[0;32m   2989\u001b[0m \n\u001b[0;32m   2990\u001b[0m \u001b[39m    Arguments:\u001b[39;00m\n\u001b[1;32m   (...)\u001b[0m\n\u001b[0;32m   2994\u001b[0m \u001b[39m        self.representative_docs_: Populate each topic with 3 representative docs\u001b[39;00m\n\u001b[0;32m   2995\u001b[0m \u001b[39m    \"\"\"\u001b[39;00m\n\u001b[1;32m-> 2996\u001b[0m     repr_docs, _, _\u001b[39m=\u001b[39m \u001b[39mself\u001b[39;49m\u001b[39m.\u001b[39;49m_extract_representative_docs(\u001b[39mself\u001b[39;49m\u001b[39m.\u001b[39;49mc_tf_idf_, \n\u001b[0;32m   2997\u001b[0m                                                        documents, \n\u001b[0;32m   2998\u001b[0m                                                        \u001b[39mself\u001b[39;49m\u001b[39m.\u001b[39;49mtopic_representations_, \n\u001b[0;32m   2999\u001b[0m                                                        nr_samples\u001b[39m=\u001b[39;49m\u001b[39m500\u001b[39;49m, \n\u001b[0;32m   3000\u001b[0m                                                        nr_repr_docs\u001b[39m=\u001b[39;49m\u001b[39m3\u001b[39;49m)\n\u001b[0;32m   3001\u001b[0m     \u001b[39mself\u001b[39m\u001b[39m.\u001b[39mrepresentative_docs_ \u001b[39m=\u001b[39m repr_docs\n",
      "File \u001b[1;32m~\\AppData\\Local\\Packages\\PythonSoftwareFoundation.Python.3.9_qbz5n2kfra8p0\\LocalCache\\local-packages\\Python39\\site-packages\\bertopic\\_bertopic.py:3044\u001b[0m, in \u001b[0;36mBERTopic._extract_representative_docs\u001b[1;34m(self, c_tf_idf, documents, topics, nr_samples, nr_repr_docs)\u001b[0m\n\u001b[0;32m   3040\u001b[0m \u001b[39mfor\u001b[39;00m index, topic \u001b[39min\u001b[39;00m \u001b[39menumerate\u001b[39m(labels):\n\u001b[0;32m   3041\u001b[0m \n\u001b[0;32m   3042\u001b[0m     \u001b[39m# Calculate similarity\u001b[39;00m\n\u001b[0;32m   3043\u001b[0m     selected_docs \u001b[39m=\u001b[39m documents_per_topic\u001b[39m.\u001b[39mloc[documents_per_topic\u001b[39m.\u001b[39mTopic \u001b[39m==\u001b[39m topic, \u001b[39m\"\u001b[39m\u001b[39mDocument\u001b[39m\u001b[39m\"\u001b[39m]\u001b[39m.\u001b[39mvalues\n\u001b[1;32m-> 3044\u001b[0m     bow \u001b[39m=\u001b[39m \u001b[39mself\u001b[39;49m\u001b[39m.\u001b[39;49mvectorizer_model\u001b[39m.\u001b[39;49mtransform(selected_docs)\n\u001b[0;32m   3045\u001b[0m     ctfidf \u001b[39m=\u001b[39m \u001b[39mself\u001b[39m\u001b[39m.\u001b[39mctfidf_model\u001b[39m.\u001b[39mtransform(bow)\n\u001b[0;32m   3046\u001b[0m     sim_matrix \u001b[39m=\u001b[39m cosine_similarity(ctfidf, c_tf_idf[index])\n",
      "File \u001b[1;32m~\\AppData\\Local\\Packages\\PythonSoftwareFoundation.Python.3.9_qbz5n2kfra8p0\\LocalCache\\local-packages\\Python39\\site-packages\\sklearn\\feature_extraction\\text.py:1432\u001b[0m, in \u001b[0;36mCountVectorizer.transform\u001b[1;34m(self, raw_documents)\u001b[0m\n\u001b[0;32m   1429\u001b[0m \u001b[39mself\u001b[39m\u001b[39m.\u001b[39m_check_vocabulary()\n\u001b[0;32m   1431\u001b[0m \u001b[39m# use the same matrix-building strategy as fit_transform\u001b[39;00m\n\u001b[1;32m-> 1432\u001b[0m _, X \u001b[39m=\u001b[39m \u001b[39mself\u001b[39;49m\u001b[39m.\u001b[39;49m_count_vocab(raw_documents, fixed_vocab\u001b[39m=\u001b[39;49m\u001b[39mTrue\u001b[39;49;00m)\n\u001b[0;32m   1433\u001b[0m \u001b[39mif\u001b[39;00m \u001b[39mself\u001b[39m\u001b[39m.\u001b[39mbinary:\n\u001b[0;32m   1434\u001b[0m     X\u001b[39m.\u001b[39mdata\u001b[39m.\u001b[39mfill(\u001b[39m1\u001b[39m)\n",
      "File \u001b[1;32m~\\AppData\\Local\\Packages\\PythonSoftwareFoundation.Python.3.9_qbz5n2kfra8p0\\LocalCache\\local-packages\\Python39\\site-packages\\sklearn\\feature_extraction\\text.py:1314\u001b[0m, in \u001b[0;36mCountVectorizer._count_vocab\u001b[1;34m(self, raw_documents, fixed_vocab)\u001b[0m\n\u001b[0;32m   1311\u001b[0m indptr \u001b[39m=\u001b[39m np\u001b[39m.\u001b[39masarray(indptr, dtype\u001b[39m=\u001b[39mindices_dtype)\n\u001b[0;32m   1312\u001b[0m values \u001b[39m=\u001b[39m np\u001b[39m.\u001b[39mfrombuffer(values, dtype\u001b[39m=\u001b[39mnp\u001b[39m.\u001b[39mintc)\n\u001b[1;32m-> 1314\u001b[0m X \u001b[39m=\u001b[39m sp\u001b[39m.\u001b[39;49mcsr_matrix(\n\u001b[0;32m   1315\u001b[0m     (values, j_indices, indptr),\n\u001b[0;32m   1316\u001b[0m     shape\u001b[39m=\u001b[39;49m(\u001b[39mlen\u001b[39;49m(indptr) \u001b[39m-\u001b[39;49m \u001b[39m1\u001b[39;49m, \u001b[39mlen\u001b[39;49m(vocabulary)),\n\u001b[0;32m   1317\u001b[0m     dtype\u001b[39m=\u001b[39;49m\u001b[39mself\u001b[39;49m\u001b[39m.\u001b[39;49mdtype,\n\u001b[0;32m   1318\u001b[0m )\n\u001b[0;32m   1319\u001b[0m X\u001b[39m.\u001b[39msort_indices()\n\u001b[0;32m   1320\u001b[0m \u001b[39mreturn\u001b[39;00m vocabulary, X\n",
      "File \u001b[1;32m~\\AppData\\Local\\Packages\\PythonSoftwareFoundation.Python.3.9_qbz5n2kfra8p0\\LocalCache\\local-packages\\Python39\\site-packages\\scipy\\sparse\\_compressed.py:72\u001b[0m, in \u001b[0;36m_cs_matrix.__init__\u001b[1;34m(self, arg1, shape, dtype, copy)\u001b[0m\n\u001b[0;32m     69\u001b[0m     \u001b[39mself\u001b[39m\u001b[39m.\u001b[39mindices \u001b[39m=\u001b[39m np\u001b[39m.\u001b[39marray(indices, copy\u001b[39m=\u001b[39mcopy,\n\u001b[0;32m     70\u001b[0m                             dtype\u001b[39m=\u001b[39midx_dtype)\n\u001b[0;32m     71\u001b[0m     \u001b[39mself\u001b[39m\u001b[39m.\u001b[39mindptr \u001b[39m=\u001b[39m np\u001b[39m.\u001b[39marray(indptr, copy\u001b[39m=\u001b[39mcopy, dtype\u001b[39m=\u001b[39midx_dtype)\n\u001b[1;32m---> 72\u001b[0m     \u001b[39mself\u001b[39m\u001b[39m.\u001b[39mdata \u001b[39m=\u001b[39m np\u001b[39m.\u001b[39;49marray(data, copy\u001b[39m=\u001b[39;49mcopy, dtype\u001b[39m=\u001b[39;49mdtype)\n\u001b[0;32m     73\u001b[0m \u001b[39melse\u001b[39;00m:\n\u001b[0;32m     74\u001b[0m     \u001b[39mraise\u001b[39;00m \u001b[39mValueError\u001b[39;00m(\u001b[39m\"\u001b[39m\u001b[39munrecognized \u001b[39m\u001b[39m{}\u001b[39;00m\u001b[39m_matrix \u001b[39m\u001b[39m\"\u001b[39m\n\u001b[0;32m     75\u001b[0m                      \u001b[39m\"\u001b[39m\u001b[39mconstructor usage\u001b[39m\u001b[39m\"\u001b[39m\u001b[39m.\u001b[39mformat(\u001b[39mself\u001b[39m\u001b[39m.\u001b[39mformat))\n",
      "\u001b[1;31mKeyboardInterrupt\u001b[0m: "
     ]
    }
   ],
   "source": [
    "#topic reduction model, reduce topic count to 50 \n",
    "\n",
    "topic_model.reduce_topics(cos_df['description'], nr_topics=50)\n",
    "topics = topic_model.topics_"
   ]
  },
  {
   "cell_type": "code",
   "execution_count": 47,
   "metadata": {},
   "outputs": [
    {
     "data": {
      "text/html": [
       "<div>\n",
       "<style scoped>\n",
       "    .dataframe tbody tr th:only-of-type {\n",
       "        vertical-align: middle;\n",
       "    }\n",
       "\n",
       "    .dataframe tbody tr th {\n",
       "        vertical-align: top;\n",
       "    }\n",
       "\n",
       "    .dataframe thead th {\n",
       "        text-align: right;\n",
       "    }\n",
       "</style>\n",
       "<table border=\"1\" class=\"dataframe\">\n",
       "  <thead>\n",
       "    <tr style=\"text-align: right;\">\n",
       "      <th></th>\n",
       "      <th>Topic</th>\n",
       "      <th>Count</th>\n",
       "      <th>Name</th>\n",
       "    </tr>\n",
       "  </thead>\n",
       "  <tbody>\n",
       "    <tr>\n",
       "      <th>0</th>\n",
       "      <td>-1</td>\n",
       "      <td>827</td>\n",
       "      <td>-1_experience_cybersecurity_technical_solutions</td>\n",
       "    </tr>\n",
       "    <tr>\n",
       "      <th>1</th>\n",
       "      <td>0</td>\n",
       "      <td>2371</td>\n",
       "      <td>0_experience_cybersecurity_management_requirem...</td>\n",
       "    </tr>\n",
       "    <tr>\n",
       "      <th>2</th>\n",
       "      <td>1</td>\n",
       "      <td>267</td>\n",
       "      <td>1_ey_solution_clients_technical</td>\n",
       "    </tr>\n",
       "    <tr>\n",
       "      <th>3</th>\n",
       "      <td>2</td>\n",
       "      <td>188</td>\n",
       "      <td>2_ctg_build_process_healthcare</td>\n",
       "    </tr>\n",
       "    <tr>\n",
       "      <th>4</th>\n",
       "      <td>3</td>\n",
       "      <td>101</td>\n",
       "      <td>3_cybersecurity_team_experience_bcg</td>\n",
       "    </tr>\n",
       "    <tr>\n",
       "      <th>5</th>\n",
       "      <td>4</td>\n",
       "      <td>92</td>\n",
       "      <td>4_deloitte_risk_help_range</td>\n",
       "    </tr>\n",
       "    <tr>\n",
       "      <th>6</th>\n",
       "      <td>5</td>\n",
       "      <td>83</td>\n",
       "      <td>5_rubrik_minimum maximum_salaries role_public</td>\n",
       "    </tr>\n",
       "    <tr>\n",
       "      <th>7</th>\n",
       "      <td>6</td>\n",
       "      <td>76</td>\n",
       "      <td>6_information security_apria healthcare_vetera...</td>\n",
       "    </tr>\n",
       "    <tr>\n",
       "      <th>8</th>\n",
       "      <td>7</td>\n",
       "      <td>70</td>\n",
       "      <td>7_pwc_compensation range_plus eligible_depende...</td>\n",
       "    </tr>\n",
       "    <tr>\n",
       "      <th>9</th>\n",
       "      <td>8</td>\n",
       "      <td>67</td>\n",
       "      <td>8_umb_information security_expect_experience</td>\n",
       "    </tr>\n",
       "    <tr>\n",
       "      <th>10</th>\n",
       "      <td>9</td>\n",
       "      <td>63</td>\n",
       "      <td>9_information_apria_demonstrated_time support</td>\n",
       "    </tr>\n",
       "    <tr>\n",
       "      <th>11</th>\n",
       "      <td>10</td>\n",
       "      <td>59</td>\n",
       "      <td>10_analyst_information_security soc_experience</td>\n",
       "    </tr>\n",
       "    <tr>\n",
       "      <th>12</th>\n",
       "      <td>11</td>\n",
       "      <td>57</td>\n",
       "      <td>11_heart association_configuration management_...</td>\n",
       "    </tr>\n",
       "    <tr>\n",
       "      <th>13</th>\n",
       "      <td>12</td>\n",
       "      <td>56</td>\n",
       "      <td>12_soc_shift_incidents_benefits</td>\n",
       "    </tr>\n",
       "    <tr>\n",
       "      <th>14</th>\n",
       "      <td>13</td>\n",
       "      <td>55</td>\n",
       "      <td>13_rubrik_salaries role_equity_fedramp</td>\n",
       "    </tr>\n",
       "    <tr>\n",
       "      <th>15</th>\n",
       "      <td>14</td>\n",
       "      <td>54</td>\n",
       "      <td>14_navy federal_experience_cox_autodesk</td>\n",
       "    </tr>\n",
       "    <tr>\n",
       "      <th>16</th>\n",
       "      <td>15</td>\n",
       "      <td>52</td>\n",
       "      <td>15_pnnl_insurance_cyber security_requirements</td>\n",
       "    </tr>\n",
       "    <tr>\n",
       "      <th>17</th>\n",
       "      <td>16</td>\n",
       "      <td>52</td>\n",
       "      <td>16_required_workforce_capabilities navair_guid...</td>\n",
       "    </tr>\n",
       "    <tr>\n",
       "      <th>18</th>\n",
       "      <td>17</td>\n",
       "      <td>49</td>\n",
       "      <td>17_tiaa_click applicants_residing brazil_acces...</td>\n",
       "    </tr>\n",
       "    <tr>\n",
       "      <th>19</th>\n",
       "      <td>18</td>\n",
       "      <td>49</td>\n",
       "      <td>18_northrop grumman_employees_land sea_experience</td>\n",
       "    </tr>\n",
       "    <tr>\n",
       "      <th>20</th>\n",
       "      <td>19</td>\n",
       "      <td>49</td>\n",
       "      <td>19_solutions architect_platform_genesys purecl...</td>\n",
       "    </tr>\n",
       "    <tr>\n",
       "      <th>21</th>\n",
       "      <td>20</td>\n",
       "      <td>47</td>\n",
       "      <td>20_analyst_energy_nrel_data</td>\n",
       "    </tr>\n",
       "    <tr>\n",
       "      <th>22</th>\n",
       "      <td>21</td>\n",
       "      <td>46</td>\n",
       "      <td>21_litigation_foia_data_requests</td>\n",
       "    </tr>\n",
       "    <tr>\n",
       "      <th>23</th>\n",
       "      <td>22</td>\n",
       "      <td>46</td>\n",
       "      <td>22_discover_risk_brighter_contribute day</td>\n",
       "    </tr>\n",
       "    <tr>\n",
       "      <th>24</th>\n",
       "      <td>23</td>\n",
       "      <td>46</td>\n",
       "      <td>23_pwc_nis_long term_security architecture</td>\n",
       "    </tr>\n",
       "    <tr>\n",
       "      <th>25</th>\n",
       "      <td>24</td>\n",
       "      <td>45</td>\n",
       "      <td>24_privacy_nelnet_customers_security advisors</td>\n",
       "    </tr>\n",
       "    <tr>\n",
       "      <th>26</th>\n",
       "      <td>25</td>\n",
       "      <td>44</td>\n",
       "      <td>25_xerox business_teams_pwc_stakeholders company</td>\n",
       "    </tr>\n",
       "    <tr>\n",
       "      <th>27</th>\n",
       "      <td>26</td>\n",
       "      <td>44</td>\n",
       "      <td>26_td bank_customer success_adoption_services</td>\n",
       "    </tr>\n",
       "    <tr>\n",
       "      <th>28</th>\n",
       "      <td>27</td>\n",
       "      <td>44</td>\n",
       "      <td>27_evidence_ey_noblis_cybersecurity</td>\n",
       "    </tr>\n",
       "  </tbody>\n",
       "</table>\n",
       "</div>"
      ],
      "text/plain": [
       "    Topic  Count                                               Name\n",
       "0      -1    827    -1_experience_cybersecurity_technical_solutions\n",
       "1       0   2371  0_experience_cybersecurity_management_requirem...\n",
       "2       1    267                    1_ey_solution_clients_technical\n",
       "3       2    188                     2_ctg_build_process_healthcare\n",
       "4       3    101                3_cybersecurity_team_experience_bcg\n",
       "5       4     92                         4_deloitte_risk_help_range\n",
       "6       5     83      5_rubrik_minimum maximum_salaries role_public\n",
       "7       6     76  6_information security_apria healthcare_vetera...\n",
       "8       7     70  7_pwc_compensation range_plus eligible_depende...\n",
       "9       8     67       8_umb_information security_expect_experience\n",
       "10      9     63      9_information_apria_demonstrated_time support\n",
       "11     10     59     10_analyst_information_security soc_experience\n",
       "12     11     57  11_heart association_configuration management_...\n",
       "13     12     56                    12_soc_shift_incidents_benefits\n",
       "14     13     55             13_rubrik_salaries role_equity_fedramp\n",
       "15     14     54            14_navy federal_experience_cox_autodesk\n",
       "16     15     52      15_pnnl_insurance_cyber security_requirements\n",
       "17     16     52  16_required_workforce_capabilities navair_guid...\n",
       "18     17     49  17_tiaa_click applicants_residing brazil_acces...\n",
       "19     18     49  18_northrop grumman_employees_land sea_experience\n",
       "20     19     49  19_solutions architect_platform_genesys purecl...\n",
       "21     20     47                        20_analyst_energy_nrel_data\n",
       "22     21     46                   21_litigation_foia_data_requests\n",
       "23     22     46           22_discover_risk_brighter_contribute day\n",
       "24     23     46         23_pwc_nis_long term_security architecture\n",
       "25     24     45      24_privacy_nelnet_customers_security advisors\n",
       "26     25     44   25_xerox business_teams_pwc_stakeholders company\n",
       "27     26     44      26_td bank_customer success_adoption_services\n",
       "28     27     44                27_evidence_ey_noblis_cybersecurity"
      ]
     },
     "execution_count": 47,
     "metadata": {},
     "output_type": "execute_result"
    }
   ],
   "source": [
    "topic_model.get_topic_info()"
   ]
  },
  {
   "cell_type": "code",
   "execution_count": 51,
   "metadata": {},
   "outputs": [
    {
     "data": {
      "text/html": [
       "<div>\n",
       "<style scoped>\n",
       "    .dataframe tbody tr th:only-of-type {\n",
       "        vertical-align: middle;\n",
       "    }\n",
       "\n",
       "    .dataframe tbody tr th {\n",
       "        vertical-align: top;\n",
       "    }\n",
       "\n",
       "    .dataframe thead th {\n",
       "        text-align: right;\n",
       "    }\n",
       "</style>\n",
       "<table border=\"1\" class=\"dataframe\">\n",
       "  <thead>\n",
       "    <tr style=\"text-align: right;\">\n",
       "      <th></th>\n",
       "      <th>Topic</th>\n",
       "      <th>Count</th>\n",
       "      <th>Name</th>\n",
       "    </tr>\n",
       "  </thead>\n",
       "  <tbody>\n",
       "    <tr>\n",
       "      <th>0</th>\n",
       "      <td>-1</td>\n",
       "      <td>4678</td>\n",
       "      <td>-1_information_work_cybersecurity_technical</td>\n",
       "    </tr>\n",
       "    <tr>\n",
       "      <th>1</th>\n",
       "      <td>0</td>\n",
       "      <td>969</td>\n",
       "      <td>0_information_dod_cybersecurity_requirements</td>\n",
       "    </tr>\n",
       "    <tr>\n",
       "      <th>2</th>\n",
       "      <td>1</td>\n",
       "      <td>410</td>\n",
       "      <td>1_experience_cloud security_aws_usa remote</td>\n",
       "    </tr>\n",
       "    <tr>\n",
       "      <th>3</th>\n",
       "      <td>2</td>\n",
       "      <td>215</td>\n",
       "      <td>2_students_faculty_cybersecurity_umgc</td>\n",
       "    </tr>\n",
       "    <tr>\n",
       "      <th>4</th>\n",
       "      <td>3</td>\n",
       "      <td>187</td>\n",
       "      <td>3_information_security analyst_risk_management</td>\n",
       "    </tr>\n",
       "    <tr>\n",
       "      <th>5</th>\n",
       "      <td>4</td>\n",
       "      <td>183</td>\n",
       "      <td>4_experience_systems_security architecture_req...</td>\n",
       "    </tr>\n",
       "    <tr>\n",
       "      <th>6</th>\n",
       "      <td>5</td>\n",
       "      <td>182</td>\n",
       "      <td>5_network security_experience_cisco_years</td>\n",
       "    </tr>\n",
       "    <tr>\n",
       "      <th>7</th>\n",
       "      <td>6</td>\n",
       "      <td>136</td>\n",
       "      <td>6_experience_cybersecurity_analyst_threat</td>\n",
       "    </tr>\n",
       "    <tr>\n",
       "      <th>8</th>\n",
       "      <td>7</td>\n",
       "      <td>119</td>\n",
       "      <td>7_information_skills_cyber security_program</td>\n",
       "    </tr>\n",
       "    <tr>\n",
       "      <th>9</th>\n",
       "      <td>8</td>\n",
       "      <td>119</td>\n",
       "      <td>8_penetration testing_experience_mellon_bny</td>\n",
       "    </tr>\n",
       "    <tr>\n",
       "      <th>10</th>\n",
       "      <td>9</td>\n",
       "      <td>106</td>\n",
       "      <td>9_het_te_vous_sécurité</td>\n",
       "    </tr>\n",
       "    <tr>\n",
       "      <th>11</th>\n",
       "      <td>10</td>\n",
       "      <td>87</td>\n",
       "      <td>10_leidos_pay range_support_dod</td>\n",
       "    </tr>\n",
       "    <tr>\n",
       "      <th>12</th>\n",
       "      <td>11</td>\n",
       "      <td>81</td>\n",
       "      <td>11_cyber_mitre corporation_following clearance...</td>\n",
       "    </tr>\n",
       "    <tr>\n",
       "      <th>13</th>\n",
       "      <td>12</td>\n",
       "      <td>76</td>\n",
       "      <td>12_security_cardinal health_ot_status</td>\n",
       "    </tr>\n",
       "    <tr>\n",
       "      <th>14</th>\n",
       "      <td>13</td>\n",
       "      <td>75</td>\n",
       "      <td>13_cybersecurity_skills_experience_managed ser...</td>\n",
       "    </tr>\n",
       "    <tr>\n",
       "      <th>15</th>\n",
       "      <td>14</td>\n",
       "      <td>75</td>\n",
       "      <td>14_cybersecurity_engineering_embedded_team</td>\n",
       "    </tr>\n",
       "    <tr>\n",
       "      <th>16</th>\n",
       "      <td>15</td>\n",
       "      <td>70</td>\n",
       "      <td>15_northrop_grumman employees_pioneering_exper...</td>\n",
       "    </tr>\n",
       "    <tr>\n",
       "      <th>17</th>\n",
       "      <td>16</td>\n",
       "      <td>68</td>\n",
       "      <td>16_optiv_solutions_customers_accounts</td>\n",
       "    </tr>\n",
       "    <tr>\n",
       "      <th>18</th>\n",
       "      <td>17</td>\n",
       "      <td>62</td>\n",
       "      <td>17_kimberly clark_privacy_investigations_enter...</td>\n",
       "    </tr>\n",
       "    <tr>\n",
       "      <th>19</th>\n",
       "      <td>18</td>\n",
       "      <td>61</td>\n",
       "      <td>18_automation_deloitte cyber_fusion center_cli...</td>\n",
       "    </tr>\n",
       "    <tr>\n",
       "      <th>20</th>\n",
       "      <td>19</td>\n",
       "      <td>60</td>\n",
       "      <td>19_defense_incident_network traffic_analyze</td>\n",
       "    </tr>\n",
       "    <tr>\n",
       "      <th>21</th>\n",
       "      <td>20</td>\n",
       "      <td>55</td>\n",
       "      <td>20_security_export_flexible_required office</td>\n",
       "    </tr>\n",
       "    <tr>\n",
       "      <th>22</th>\n",
       "      <td>21</td>\n",
       "      <td>53</td>\n",
       "      <td>21_intelerad_costco_solutions_medical image</td>\n",
       "    </tr>\n",
       "    <tr>\n",
       "      <th>23</th>\n",
       "      <td>22</td>\n",
       "      <td>50</td>\n",
       "      <td>22_experience_information_work_role</td>\n",
       "    </tr>\n",
       "    <tr>\n",
       "      <th>24</th>\n",
       "      <td>23</td>\n",
       "      <td>48</td>\n",
       "      <td>23_iam_management_experience_identity access</td>\n",
       "    </tr>\n",
       "    <tr>\n",
       "      <th>25</th>\n",
       "      <td>24</td>\n",
       "      <td>46</td>\n",
       "      <td>24_palo alto_customer success_experience_mission</td>\n",
       "    </tr>\n",
       "    <tr>\n",
       "      <th>26</th>\n",
       "      <td>25</td>\n",
       "      <td>46</td>\n",
       "      <td>25_experience_dom_mtsi_space</td>\n",
       "    </tr>\n",
       "    <tr>\n",
       "      <th>27</th>\n",
       "      <td>26</td>\n",
       "      <td>41</td>\n",
       "      <td>26_ey_svb_clients_data</td>\n",
       "    </tr>\n",
       "    <tr>\n",
       "      <th>28</th>\n",
       "      <td>27</td>\n",
       "      <td>41</td>\n",
       "      <td>27_change healthcare_insider threat_covid vacc...</td>\n",
       "    </tr>\n",
       "    <tr>\n",
       "      <th>29</th>\n",
       "      <td>28</td>\n",
       "      <td>41</td>\n",
       "      <td>28_information_experience_nrel_lockheed martin</td>\n",
       "    </tr>\n",
       "    <tr>\n",
       "      <th>30</th>\n",
       "      <td>29</td>\n",
       "      <td>41</td>\n",
       "      <td>29_doe_security clearance_employment_sandia na...</td>\n",
       "    </tr>\n",
       "    <tr>\n",
       "      <th>31</th>\n",
       "      <td>30</td>\n",
       "      <td>41</td>\n",
       "      <td>30_verizon_security_services_nyc</td>\n",
       "    </tr>\n",
       "  </tbody>\n",
       "</table>\n",
       "</div>"
      ],
      "text/plain": [
       "    Topic  Count                                               Name\n",
       "0      -1   4678        -1_information_work_cybersecurity_technical\n",
       "1       0    969       0_information_dod_cybersecurity_requirements\n",
       "2       1    410         1_experience_cloud security_aws_usa remote\n",
       "3       2    215              2_students_faculty_cybersecurity_umgc\n",
       "4       3    187     3_information_security analyst_risk_management\n",
       "5       4    183  4_experience_systems_security architecture_req...\n",
       "6       5    182          5_network security_experience_cisco_years\n",
       "7       6    136          6_experience_cybersecurity_analyst_threat\n",
       "8       7    119        7_information_skills_cyber security_program\n",
       "9       8    119        8_penetration testing_experience_mellon_bny\n",
       "10      9    106                             9_het_te_vous_sécurité\n",
       "11     10     87                    10_leidos_pay range_support_dod\n",
       "12     11     81  11_cyber_mitre corporation_following clearance...\n",
       "13     12     76              12_security_cardinal health_ot_status\n",
       "14     13     75  13_cybersecurity_skills_experience_managed ser...\n",
       "15     14     75         14_cybersecurity_engineering_embedded_team\n",
       "16     15     70  15_northrop_grumman employees_pioneering_exper...\n",
       "17     16     68              16_optiv_solutions_customers_accounts\n",
       "18     17     62  17_kimberly clark_privacy_investigations_enter...\n",
       "19     18     61  18_automation_deloitte cyber_fusion center_cli...\n",
       "20     19     60        19_defense_incident_network traffic_analyze\n",
       "21     20     55        20_security_export_flexible_required office\n",
       "22     21     53        21_intelerad_costco_solutions_medical image\n",
       "23     22     50                22_experience_information_work_role\n",
       "24     23     48       23_iam_management_experience_identity access\n",
       "25     24     46   24_palo alto_customer success_experience_mission\n",
       "26     25     46                       25_experience_dom_mtsi_space\n",
       "27     26     41                             26_ey_svb_clients_data\n",
       "28     27     41  27_change healthcare_insider threat_covid vacc...\n",
       "29     28     41     28_information_experience_nrel_lockheed martin\n",
       "30     29     41  29_doe_security clearance_employment_sandia na...\n",
       "31     30     41                   30_verizon_security_services_nyc"
      ]
     },
     "execution_count": 51,
     "metadata": {},
     "output_type": "execute_result"
    }
   ],
   "source": [
    "topic_model_in.get_topic_info()"
   ]
  },
  {
   "cell_type": "code",
   "execution_count": 48,
   "metadata": {},
   "outputs": [
    {
     "data": {
      "application/vnd.plotly.v1+json": {
       "config": {
        "plotlyServerURL": "https://plot.ly"
       },
       "data": [
        {
         "marker": {
          "color": "#D55E00"
         },
         "orientation": "h",
         "type": "bar",
         "x": [
          0.006698552951623922,
          0.006859454349869952,
          0.0076875790887989725,
          0.008490102467916403,
          0.012397375052248506
         ],
         "xaxis": "x",
         "y": [
          "years  ",
          "requirements  ",
          "management  ",
          "cybersecurity  ",
          "experience  "
         ],
         "yaxis": "y"
        },
        {
         "marker": {
          "color": "#0072B2"
         },
         "orientation": "h",
         "type": "bar",
         "x": [
          0.007968046601451157,
          0.009333036565186548,
          0.011622050727864373,
          0.011808958937892784,
          0.02657951543090314
         ],
         "xaxis": "x2",
         "y": [
          "skills  ",
          "technical  ",
          "clients  ",
          "solution  ",
          "ey  "
         ],
         "yaxis": "y2"
        },
        {
         "marker": {
          "color": "#CC79A7"
         },
         "orientation": "h",
         "type": "bar",
         "x": [
          0.014923093863442528,
          0.01637531999279507,
          0.017554985034073094,
          0.019482389092606817,
          0.05933014845776016
         ],
         "xaxis": "x3",
         "y": [
          "cerner security  ",
          "healthcare  ",
          "process  ",
          "build  ",
          "ctg  "
         ],
         "yaxis": "y3"
        },
        {
         "marker": {
          "color": "#E69F00"
         },
         "orientation": "h",
         "type": "bar",
         "x": [
          0.007668761838402453,
          0.010707608513879857,
          0.011084182836081641,
          0.01126525602734554,
          0.013350772788604763
         ],
         "xaxis": "x4",
         "y": [
          "crowdstrike  ",
          "bcg  ",
          "experience  ",
          "team  ",
          "cybersecurity  "
         ],
         "yaxis": "y4"
        },
        {
         "marker": {
          "color": "#56B4E9"
         },
         "orientation": "h",
         "type": "bar",
         "x": [
          0.009633619117991555,
          0.011054860028280879,
          0.011642116289619605,
          0.012439983473645201,
          0.032810358360616854
         ],
         "xaxis": "x5",
         "y": [
          "incident response  ",
          "range  ",
          "help  ",
          "risk  ",
          "deloitte  "
         ],
         "yaxis": "y5"
        }
       ],
       "layout": {
        "annotations": [
         {
          "font": {
           "size": 16
          },
          "showarrow": false,
          "text": "Topic 0",
          "x": 0.0875,
          "xanchor": "center",
          "xref": "paper",
          "y": 1,
          "yanchor": "bottom",
          "yref": "paper"
         },
         {
          "font": {
           "size": 16
          },
          "showarrow": false,
          "text": "Topic 1",
          "x": 0.36250000000000004,
          "xanchor": "center",
          "xref": "paper",
          "y": 1,
          "yanchor": "bottom",
          "yref": "paper"
         },
         {
          "font": {
           "size": 16
          },
          "showarrow": false,
          "text": "Topic 2",
          "x": 0.6375000000000001,
          "xanchor": "center",
          "xref": "paper",
          "y": 1,
          "yanchor": "bottom",
          "yref": "paper"
         },
         {
          "font": {
           "size": 16
          },
          "showarrow": false,
          "text": "Topic 3",
          "x": 0.9125,
          "xanchor": "center",
          "xref": "paper",
          "y": 1,
          "yanchor": "bottom",
          "yref": "paper"
         },
         {
          "font": {
           "size": 16
          },
          "showarrow": false,
          "text": "Topic 4",
          "x": 0.0875,
          "xanchor": "center",
          "xref": "paper",
          "y": 0.4,
          "yanchor": "bottom",
          "yref": "paper"
         }
        ],
        "height": 500,
        "hoverlabel": {
         "bgcolor": "white",
         "font": {
          "family": "Rockwell",
          "size": 16
         }
        },
        "showlegend": false,
        "template": {
         "data": {
          "bar": [
           {
            "error_x": {
             "color": "#2a3f5f"
            },
            "error_y": {
             "color": "#2a3f5f"
            },
            "marker": {
             "line": {
              "color": "white",
              "width": 0.5
             },
             "pattern": {
              "fillmode": "overlay",
              "size": 10,
              "solidity": 0.2
             }
            },
            "type": "bar"
           }
          ],
          "barpolar": [
           {
            "marker": {
             "line": {
              "color": "white",
              "width": 0.5
             },
             "pattern": {
              "fillmode": "overlay",
              "size": 10,
              "solidity": 0.2
             }
            },
            "type": "barpolar"
           }
          ],
          "carpet": [
           {
            "aaxis": {
             "endlinecolor": "#2a3f5f",
             "gridcolor": "#C8D4E3",
             "linecolor": "#C8D4E3",
             "minorgridcolor": "#C8D4E3",
             "startlinecolor": "#2a3f5f"
            },
            "baxis": {
             "endlinecolor": "#2a3f5f",
             "gridcolor": "#C8D4E3",
             "linecolor": "#C8D4E3",
             "minorgridcolor": "#C8D4E3",
             "startlinecolor": "#2a3f5f"
            },
            "type": "carpet"
           }
          ],
          "choropleth": [
           {
            "colorbar": {
             "outlinewidth": 0,
             "ticks": ""
            },
            "type": "choropleth"
           }
          ],
          "contour": [
           {
            "colorbar": {
             "outlinewidth": 0,
             "ticks": ""
            },
            "colorscale": [
             [
              0,
              "#0d0887"
             ],
             [
              0.1111111111111111,
              "#46039f"
             ],
             [
              0.2222222222222222,
              "#7201a8"
             ],
             [
              0.3333333333333333,
              "#9c179e"
             ],
             [
              0.4444444444444444,
              "#bd3786"
             ],
             [
              0.5555555555555556,
              "#d8576b"
             ],
             [
              0.6666666666666666,
              "#ed7953"
             ],
             [
              0.7777777777777778,
              "#fb9f3a"
             ],
             [
              0.8888888888888888,
              "#fdca26"
             ],
             [
              1,
              "#f0f921"
             ]
            ],
            "type": "contour"
           }
          ],
          "contourcarpet": [
           {
            "colorbar": {
             "outlinewidth": 0,
             "ticks": ""
            },
            "type": "contourcarpet"
           }
          ],
          "heatmap": [
           {
            "colorbar": {
             "outlinewidth": 0,
             "ticks": ""
            },
            "colorscale": [
             [
              0,
              "#0d0887"
             ],
             [
              0.1111111111111111,
              "#46039f"
             ],
             [
              0.2222222222222222,
              "#7201a8"
             ],
             [
              0.3333333333333333,
              "#9c179e"
             ],
             [
              0.4444444444444444,
              "#bd3786"
             ],
             [
              0.5555555555555556,
              "#d8576b"
             ],
             [
              0.6666666666666666,
              "#ed7953"
             ],
             [
              0.7777777777777778,
              "#fb9f3a"
             ],
             [
              0.8888888888888888,
              "#fdca26"
             ],
             [
              1,
              "#f0f921"
             ]
            ],
            "type": "heatmap"
           }
          ],
          "heatmapgl": [
           {
            "colorbar": {
             "outlinewidth": 0,
             "ticks": ""
            },
            "colorscale": [
             [
              0,
              "#0d0887"
             ],
             [
              0.1111111111111111,
              "#46039f"
             ],
             [
              0.2222222222222222,
              "#7201a8"
             ],
             [
              0.3333333333333333,
              "#9c179e"
             ],
             [
              0.4444444444444444,
              "#bd3786"
             ],
             [
              0.5555555555555556,
              "#d8576b"
             ],
             [
              0.6666666666666666,
              "#ed7953"
             ],
             [
              0.7777777777777778,
              "#fb9f3a"
             ],
             [
              0.8888888888888888,
              "#fdca26"
             ],
             [
              1,
              "#f0f921"
             ]
            ],
            "type": "heatmapgl"
           }
          ],
          "histogram": [
           {
            "marker": {
             "pattern": {
              "fillmode": "overlay",
              "size": 10,
              "solidity": 0.2
             }
            },
            "type": "histogram"
           }
          ],
          "histogram2d": [
           {
            "colorbar": {
             "outlinewidth": 0,
             "ticks": ""
            },
            "colorscale": [
             [
              0,
              "#0d0887"
             ],
             [
              0.1111111111111111,
              "#46039f"
             ],
             [
              0.2222222222222222,
              "#7201a8"
             ],
             [
              0.3333333333333333,
              "#9c179e"
             ],
             [
              0.4444444444444444,
              "#bd3786"
             ],
             [
              0.5555555555555556,
              "#d8576b"
             ],
             [
              0.6666666666666666,
              "#ed7953"
             ],
             [
              0.7777777777777778,
              "#fb9f3a"
             ],
             [
              0.8888888888888888,
              "#fdca26"
             ],
             [
              1,
              "#f0f921"
             ]
            ],
            "type": "histogram2d"
           }
          ],
          "histogram2dcontour": [
           {
            "colorbar": {
             "outlinewidth": 0,
             "ticks": ""
            },
            "colorscale": [
             [
              0,
              "#0d0887"
             ],
             [
              0.1111111111111111,
              "#46039f"
             ],
             [
              0.2222222222222222,
              "#7201a8"
             ],
             [
              0.3333333333333333,
              "#9c179e"
             ],
             [
              0.4444444444444444,
              "#bd3786"
             ],
             [
              0.5555555555555556,
              "#d8576b"
             ],
             [
              0.6666666666666666,
              "#ed7953"
             ],
             [
              0.7777777777777778,
              "#fb9f3a"
             ],
             [
              0.8888888888888888,
              "#fdca26"
             ],
             [
              1,
              "#f0f921"
             ]
            ],
            "type": "histogram2dcontour"
           }
          ],
          "mesh3d": [
           {
            "colorbar": {
             "outlinewidth": 0,
             "ticks": ""
            },
            "type": "mesh3d"
           }
          ],
          "parcoords": [
           {
            "line": {
             "colorbar": {
              "outlinewidth": 0,
              "ticks": ""
             }
            },
            "type": "parcoords"
           }
          ],
          "pie": [
           {
            "automargin": true,
            "type": "pie"
           }
          ],
          "scatter": [
           {
            "fillpattern": {
             "fillmode": "overlay",
             "size": 10,
             "solidity": 0.2
            },
            "type": "scatter"
           }
          ],
          "scatter3d": [
           {
            "line": {
             "colorbar": {
              "outlinewidth": 0,
              "ticks": ""
             }
            },
            "marker": {
             "colorbar": {
              "outlinewidth": 0,
              "ticks": ""
             }
            },
            "type": "scatter3d"
           }
          ],
          "scattercarpet": [
           {
            "marker": {
             "colorbar": {
              "outlinewidth": 0,
              "ticks": ""
             }
            },
            "type": "scattercarpet"
           }
          ],
          "scattergeo": [
           {
            "marker": {
             "colorbar": {
              "outlinewidth": 0,
              "ticks": ""
             }
            },
            "type": "scattergeo"
           }
          ],
          "scattergl": [
           {
            "marker": {
             "colorbar": {
              "outlinewidth": 0,
              "ticks": ""
             }
            },
            "type": "scattergl"
           }
          ],
          "scattermapbox": [
           {
            "marker": {
             "colorbar": {
              "outlinewidth": 0,
              "ticks": ""
             }
            },
            "type": "scattermapbox"
           }
          ],
          "scatterpolar": [
           {
            "marker": {
             "colorbar": {
              "outlinewidth": 0,
              "ticks": ""
             }
            },
            "type": "scatterpolar"
           }
          ],
          "scatterpolargl": [
           {
            "marker": {
             "colorbar": {
              "outlinewidth": 0,
              "ticks": ""
             }
            },
            "type": "scatterpolargl"
           }
          ],
          "scatterternary": [
           {
            "marker": {
             "colorbar": {
              "outlinewidth": 0,
              "ticks": ""
             }
            },
            "type": "scatterternary"
           }
          ],
          "surface": [
           {
            "colorbar": {
             "outlinewidth": 0,
             "ticks": ""
            },
            "colorscale": [
             [
              0,
              "#0d0887"
             ],
             [
              0.1111111111111111,
              "#46039f"
             ],
             [
              0.2222222222222222,
              "#7201a8"
             ],
             [
              0.3333333333333333,
              "#9c179e"
             ],
             [
              0.4444444444444444,
              "#bd3786"
             ],
             [
              0.5555555555555556,
              "#d8576b"
             ],
             [
              0.6666666666666666,
              "#ed7953"
             ],
             [
              0.7777777777777778,
              "#fb9f3a"
             ],
             [
              0.8888888888888888,
              "#fdca26"
             ],
             [
              1,
              "#f0f921"
             ]
            ],
            "type": "surface"
           }
          ],
          "table": [
           {
            "cells": {
             "fill": {
              "color": "#EBF0F8"
             },
             "line": {
              "color": "white"
             }
            },
            "header": {
             "fill": {
              "color": "#C8D4E3"
             },
             "line": {
              "color": "white"
             }
            },
            "type": "table"
           }
          ]
         },
         "layout": {
          "annotationdefaults": {
           "arrowcolor": "#2a3f5f",
           "arrowhead": 0,
           "arrowwidth": 1
          },
          "autotypenumbers": "strict",
          "coloraxis": {
           "colorbar": {
            "outlinewidth": 0,
            "ticks": ""
           }
          },
          "colorscale": {
           "diverging": [
            [
             0,
             "#8e0152"
            ],
            [
             0.1,
             "#c51b7d"
            ],
            [
             0.2,
             "#de77ae"
            ],
            [
             0.3,
             "#f1b6da"
            ],
            [
             0.4,
             "#fde0ef"
            ],
            [
             0.5,
             "#f7f7f7"
            ],
            [
             0.6,
             "#e6f5d0"
            ],
            [
             0.7,
             "#b8e186"
            ],
            [
             0.8,
             "#7fbc41"
            ],
            [
             0.9,
             "#4d9221"
            ],
            [
             1,
             "#276419"
            ]
           ],
           "sequential": [
            [
             0,
             "#0d0887"
            ],
            [
             0.1111111111111111,
             "#46039f"
            ],
            [
             0.2222222222222222,
             "#7201a8"
            ],
            [
             0.3333333333333333,
             "#9c179e"
            ],
            [
             0.4444444444444444,
             "#bd3786"
            ],
            [
             0.5555555555555556,
             "#d8576b"
            ],
            [
             0.6666666666666666,
             "#ed7953"
            ],
            [
             0.7777777777777778,
             "#fb9f3a"
            ],
            [
             0.8888888888888888,
             "#fdca26"
            ],
            [
             1,
             "#f0f921"
            ]
           ],
           "sequentialminus": [
            [
             0,
             "#0d0887"
            ],
            [
             0.1111111111111111,
             "#46039f"
            ],
            [
             0.2222222222222222,
             "#7201a8"
            ],
            [
             0.3333333333333333,
             "#9c179e"
            ],
            [
             0.4444444444444444,
             "#bd3786"
            ],
            [
             0.5555555555555556,
             "#d8576b"
            ],
            [
             0.6666666666666666,
             "#ed7953"
            ],
            [
             0.7777777777777778,
             "#fb9f3a"
            ],
            [
             0.8888888888888888,
             "#fdca26"
            ],
            [
             1,
             "#f0f921"
            ]
           ]
          },
          "colorway": [
           "#636efa",
           "#EF553B",
           "#00cc96",
           "#ab63fa",
           "#FFA15A",
           "#19d3f3",
           "#FF6692",
           "#B6E880",
           "#FF97FF",
           "#FECB52"
          ],
          "font": {
           "color": "#2a3f5f"
          },
          "geo": {
           "bgcolor": "white",
           "lakecolor": "white",
           "landcolor": "white",
           "showlakes": true,
           "showland": true,
           "subunitcolor": "#C8D4E3"
          },
          "hoverlabel": {
           "align": "left"
          },
          "hovermode": "closest",
          "mapbox": {
           "style": "light"
          },
          "paper_bgcolor": "white",
          "plot_bgcolor": "white",
          "polar": {
           "angularaxis": {
            "gridcolor": "#EBF0F8",
            "linecolor": "#EBF0F8",
            "ticks": ""
           },
           "bgcolor": "white",
           "radialaxis": {
            "gridcolor": "#EBF0F8",
            "linecolor": "#EBF0F8",
            "ticks": ""
           }
          },
          "scene": {
           "xaxis": {
            "backgroundcolor": "white",
            "gridcolor": "#DFE8F3",
            "gridwidth": 2,
            "linecolor": "#EBF0F8",
            "showbackground": true,
            "ticks": "",
            "zerolinecolor": "#EBF0F8"
           },
           "yaxis": {
            "backgroundcolor": "white",
            "gridcolor": "#DFE8F3",
            "gridwidth": 2,
            "linecolor": "#EBF0F8",
            "showbackground": true,
            "ticks": "",
            "zerolinecolor": "#EBF0F8"
           },
           "zaxis": {
            "backgroundcolor": "white",
            "gridcolor": "#DFE8F3",
            "gridwidth": 2,
            "linecolor": "#EBF0F8",
            "showbackground": true,
            "ticks": "",
            "zerolinecolor": "#EBF0F8"
           }
          },
          "shapedefaults": {
           "line": {
            "color": "#2a3f5f"
           }
          },
          "ternary": {
           "aaxis": {
            "gridcolor": "#DFE8F3",
            "linecolor": "#A2B1C6",
            "ticks": ""
           },
           "baxis": {
            "gridcolor": "#DFE8F3",
            "linecolor": "#A2B1C6",
            "ticks": ""
           },
           "bgcolor": "white",
           "caxis": {
            "gridcolor": "#DFE8F3",
            "linecolor": "#A2B1C6",
            "ticks": ""
           }
          },
          "title": {
           "x": 0.05
          },
          "xaxis": {
           "automargin": true,
           "gridcolor": "#EBF0F8",
           "linecolor": "#EBF0F8",
           "ticks": "",
           "title": {
            "standoff": 15
           },
           "zerolinecolor": "#EBF0F8",
           "zerolinewidth": 2
          },
          "yaxis": {
           "automargin": true,
           "gridcolor": "#EBF0F8",
           "linecolor": "#EBF0F8",
           "ticks": "",
           "title": {
            "standoff": 15
           },
           "zerolinecolor": "#EBF0F8",
           "zerolinewidth": 2
          }
         }
        },
        "title": {
         "font": {
          "color": "Black",
          "size": 22
         },
         "text": "Topic Word Scores",
         "x": 0.5,
         "xanchor": "center",
         "yanchor": "top"
        },
        "width": 1000,
        "xaxis": {
         "anchor": "y",
         "domain": [
          0,
          0.175
         ],
         "showgrid": true
        },
        "xaxis2": {
         "anchor": "y2",
         "domain": [
          0.275,
          0.45
         ],
         "showgrid": true
        },
        "xaxis3": {
         "anchor": "y3",
         "domain": [
          0.55,
          0.7250000000000001
         ],
         "showgrid": true
        },
        "xaxis4": {
         "anchor": "y4",
         "domain": [
          0.825,
          1
         ],
         "showgrid": true
        },
        "xaxis5": {
         "anchor": "y5",
         "domain": [
          0,
          0.175
         ],
         "showgrid": true
        },
        "xaxis6": {
         "anchor": "y6",
         "domain": [
          0.275,
          0.45
         ],
         "showgrid": true
        },
        "xaxis7": {
         "anchor": "y7",
         "domain": [
          0.55,
          0.7250000000000001
         ],
         "showgrid": true
        },
        "xaxis8": {
         "anchor": "y8",
         "domain": [
          0.825,
          1
         ],
         "showgrid": true
        },
        "yaxis": {
         "anchor": "x",
         "domain": [
          0.6000000000000001,
          1
         ],
         "showgrid": true
        },
        "yaxis2": {
         "anchor": "x2",
         "domain": [
          0.6000000000000001,
          1
         ],
         "showgrid": true
        },
        "yaxis3": {
         "anchor": "x3",
         "domain": [
          0.6000000000000001,
          1
         ],
         "showgrid": true
        },
        "yaxis4": {
         "anchor": "x4",
         "domain": [
          0.6000000000000001,
          1
         ],
         "showgrid": true
        },
        "yaxis5": {
         "anchor": "x5",
         "domain": [
          0,
          0.4
         ],
         "showgrid": true
        },
        "yaxis6": {
         "anchor": "x6",
         "domain": [
          0,
          0.4
         ],
         "showgrid": true
        },
        "yaxis7": {
         "anchor": "x7",
         "domain": [
          0,
          0.4
         ],
         "showgrid": true
        },
        "yaxis8": {
         "anchor": "x8",
         "domain": [
          0,
          0.4
         ],
         "showgrid": true
        }
       }
      }
     },
     "metadata": {},
     "output_type": "display_data"
    }
   ],
   "source": [
    "#model with careeronestop data\n",
    "topic_model.visualize_barchart(top_n_topics=5)"
   ]
  },
  {
   "cell_type": "code",
   "execution_count": 52,
   "metadata": {},
   "outputs": [
    {
     "data": {
      "application/vnd.plotly.v1+json": {
       "config": {
        "plotlyServerURL": "https://plot.ly"
       },
       "data": [
        {
         "marker": {
          "color": "#D55E00"
         },
         "orientation": "h",
         "type": "bar",
         "x": [
          0.007641506639162934,
          0.009493366811575572,
          0.009546017821829293,
          0.01102782184273508,
          0.01324863717171885
         ],
         "xaxis": "x",
         "y": [
          "rmf  ",
          "requirements  ",
          "cybersecurity  ",
          "dod  ",
          "information  "
         ],
         "yaxis": "y"
        },
        {
         "marker": {
          "color": "#0072B2"
         },
         "orientation": "h",
         "type": "bar",
         "x": [
          0.009416143765340852,
          0.011491619847575118,
          0.011676688823167872,
          0.012202212225670656,
          0.013956011540894538
         ],
         "xaxis": "x2",
         "y": [
          "solutions  ",
          "usa remote  ",
          "aws  ",
          "cloud security  ",
          "experience  "
         ],
         "yaxis": "y2"
        },
        {
         "marker": {
          "color": "#CC79A7"
         },
         "orientation": "h",
         "type": "bar",
         "x": [
          0.010011232990671396,
          0.011141650571704385,
          0.01258401430598463,
          0.02220461767794176,
          0.023405297315808097
         ],
         "xaxis": "x3",
         "y": [
          "position  ",
          "umgc  ",
          "cybersecurity  ",
          "faculty  ",
          "students  "
         ],
         "yaxis": "y3"
        },
        {
         "marker": {
          "color": "#E69F00"
         },
         "orientation": "h",
         "type": "bar",
         "x": [
          0.007041013695339214,
          0.00971748666752188,
          0.010758017368741437,
          0.011706767215055236,
          0.02230577170104506
         ],
         "xaxis": "x4",
         "y": [
          "skills  ",
          "management  ",
          "risk  ",
          "security analyst  ",
          "information  "
         ],
         "yaxis": "y4"
        },
        {
         "marker": {
          "color": "#56B4E9"
         },
         "orientation": "h",
         "type": "bar",
         "x": [
          0.006757466593623847,
          0.007070845047533972,
          0.007328708591248231,
          0.007920646743226045,
          0.01216949196835397
         ],
         "xaxis": "x5",
         "y": [
          "enterprise  ",
          "requirements  ",
          "security architecture  ",
          "systems  ",
          "experience  "
         ],
         "yaxis": "y5"
        }
       ],
       "layout": {
        "annotations": [
         {
          "font": {
           "size": 16
          },
          "showarrow": false,
          "text": "Topic 0",
          "x": 0.0875,
          "xanchor": "center",
          "xref": "paper",
          "y": 1,
          "yanchor": "bottom",
          "yref": "paper"
         },
         {
          "font": {
           "size": 16
          },
          "showarrow": false,
          "text": "Topic 1",
          "x": 0.36250000000000004,
          "xanchor": "center",
          "xref": "paper",
          "y": 1,
          "yanchor": "bottom",
          "yref": "paper"
         },
         {
          "font": {
           "size": 16
          },
          "showarrow": false,
          "text": "Topic 2",
          "x": 0.6375000000000001,
          "xanchor": "center",
          "xref": "paper",
          "y": 1,
          "yanchor": "bottom",
          "yref": "paper"
         },
         {
          "font": {
           "size": 16
          },
          "showarrow": false,
          "text": "Topic 3",
          "x": 0.9125,
          "xanchor": "center",
          "xref": "paper",
          "y": 1,
          "yanchor": "bottom",
          "yref": "paper"
         },
         {
          "font": {
           "size": 16
          },
          "showarrow": false,
          "text": "Topic 4",
          "x": 0.0875,
          "xanchor": "center",
          "xref": "paper",
          "y": 0.4,
          "yanchor": "bottom",
          "yref": "paper"
         }
        ],
        "height": 500,
        "hoverlabel": {
         "bgcolor": "white",
         "font": {
          "family": "Rockwell",
          "size": 16
         }
        },
        "showlegend": false,
        "template": {
         "data": {
          "bar": [
           {
            "error_x": {
             "color": "#2a3f5f"
            },
            "error_y": {
             "color": "#2a3f5f"
            },
            "marker": {
             "line": {
              "color": "white",
              "width": 0.5
             },
             "pattern": {
              "fillmode": "overlay",
              "size": 10,
              "solidity": 0.2
             }
            },
            "type": "bar"
           }
          ],
          "barpolar": [
           {
            "marker": {
             "line": {
              "color": "white",
              "width": 0.5
             },
             "pattern": {
              "fillmode": "overlay",
              "size": 10,
              "solidity": 0.2
             }
            },
            "type": "barpolar"
           }
          ],
          "carpet": [
           {
            "aaxis": {
             "endlinecolor": "#2a3f5f",
             "gridcolor": "#C8D4E3",
             "linecolor": "#C8D4E3",
             "minorgridcolor": "#C8D4E3",
             "startlinecolor": "#2a3f5f"
            },
            "baxis": {
             "endlinecolor": "#2a3f5f",
             "gridcolor": "#C8D4E3",
             "linecolor": "#C8D4E3",
             "minorgridcolor": "#C8D4E3",
             "startlinecolor": "#2a3f5f"
            },
            "type": "carpet"
           }
          ],
          "choropleth": [
           {
            "colorbar": {
             "outlinewidth": 0,
             "ticks": ""
            },
            "type": "choropleth"
           }
          ],
          "contour": [
           {
            "colorbar": {
             "outlinewidth": 0,
             "ticks": ""
            },
            "colorscale": [
             [
              0,
              "#0d0887"
             ],
             [
              0.1111111111111111,
              "#46039f"
             ],
             [
              0.2222222222222222,
              "#7201a8"
             ],
             [
              0.3333333333333333,
              "#9c179e"
             ],
             [
              0.4444444444444444,
              "#bd3786"
             ],
             [
              0.5555555555555556,
              "#d8576b"
             ],
             [
              0.6666666666666666,
              "#ed7953"
             ],
             [
              0.7777777777777778,
              "#fb9f3a"
             ],
             [
              0.8888888888888888,
              "#fdca26"
             ],
             [
              1,
              "#f0f921"
             ]
            ],
            "type": "contour"
           }
          ],
          "contourcarpet": [
           {
            "colorbar": {
             "outlinewidth": 0,
             "ticks": ""
            },
            "type": "contourcarpet"
           }
          ],
          "heatmap": [
           {
            "colorbar": {
             "outlinewidth": 0,
             "ticks": ""
            },
            "colorscale": [
             [
              0,
              "#0d0887"
             ],
             [
              0.1111111111111111,
              "#46039f"
             ],
             [
              0.2222222222222222,
              "#7201a8"
             ],
             [
              0.3333333333333333,
              "#9c179e"
             ],
             [
              0.4444444444444444,
              "#bd3786"
             ],
             [
              0.5555555555555556,
              "#d8576b"
             ],
             [
              0.6666666666666666,
              "#ed7953"
             ],
             [
              0.7777777777777778,
              "#fb9f3a"
             ],
             [
              0.8888888888888888,
              "#fdca26"
             ],
             [
              1,
              "#f0f921"
             ]
            ],
            "type": "heatmap"
           }
          ],
          "heatmapgl": [
           {
            "colorbar": {
             "outlinewidth": 0,
             "ticks": ""
            },
            "colorscale": [
             [
              0,
              "#0d0887"
             ],
             [
              0.1111111111111111,
              "#46039f"
             ],
             [
              0.2222222222222222,
              "#7201a8"
             ],
             [
              0.3333333333333333,
              "#9c179e"
             ],
             [
              0.4444444444444444,
              "#bd3786"
             ],
             [
              0.5555555555555556,
              "#d8576b"
             ],
             [
              0.6666666666666666,
              "#ed7953"
             ],
             [
              0.7777777777777778,
              "#fb9f3a"
             ],
             [
              0.8888888888888888,
              "#fdca26"
             ],
             [
              1,
              "#f0f921"
             ]
            ],
            "type": "heatmapgl"
           }
          ],
          "histogram": [
           {
            "marker": {
             "pattern": {
              "fillmode": "overlay",
              "size": 10,
              "solidity": 0.2
             }
            },
            "type": "histogram"
           }
          ],
          "histogram2d": [
           {
            "colorbar": {
             "outlinewidth": 0,
             "ticks": ""
            },
            "colorscale": [
             [
              0,
              "#0d0887"
             ],
             [
              0.1111111111111111,
              "#46039f"
             ],
             [
              0.2222222222222222,
              "#7201a8"
             ],
             [
              0.3333333333333333,
              "#9c179e"
             ],
             [
              0.4444444444444444,
              "#bd3786"
             ],
             [
              0.5555555555555556,
              "#d8576b"
             ],
             [
              0.6666666666666666,
              "#ed7953"
             ],
             [
              0.7777777777777778,
              "#fb9f3a"
             ],
             [
              0.8888888888888888,
              "#fdca26"
             ],
             [
              1,
              "#f0f921"
             ]
            ],
            "type": "histogram2d"
           }
          ],
          "histogram2dcontour": [
           {
            "colorbar": {
             "outlinewidth": 0,
             "ticks": ""
            },
            "colorscale": [
             [
              0,
              "#0d0887"
             ],
             [
              0.1111111111111111,
              "#46039f"
             ],
             [
              0.2222222222222222,
              "#7201a8"
             ],
             [
              0.3333333333333333,
              "#9c179e"
             ],
             [
              0.4444444444444444,
              "#bd3786"
             ],
             [
              0.5555555555555556,
              "#d8576b"
             ],
             [
              0.6666666666666666,
              "#ed7953"
             ],
             [
              0.7777777777777778,
              "#fb9f3a"
             ],
             [
              0.8888888888888888,
              "#fdca26"
             ],
             [
              1,
              "#f0f921"
             ]
            ],
            "type": "histogram2dcontour"
           }
          ],
          "mesh3d": [
           {
            "colorbar": {
             "outlinewidth": 0,
             "ticks": ""
            },
            "type": "mesh3d"
           }
          ],
          "parcoords": [
           {
            "line": {
             "colorbar": {
              "outlinewidth": 0,
              "ticks": ""
             }
            },
            "type": "parcoords"
           }
          ],
          "pie": [
           {
            "automargin": true,
            "type": "pie"
           }
          ],
          "scatter": [
           {
            "fillpattern": {
             "fillmode": "overlay",
             "size": 10,
             "solidity": 0.2
            },
            "type": "scatter"
           }
          ],
          "scatter3d": [
           {
            "line": {
             "colorbar": {
              "outlinewidth": 0,
              "ticks": ""
             }
            },
            "marker": {
             "colorbar": {
              "outlinewidth": 0,
              "ticks": ""
             }
            },
            "type": "scatter3d"
           }
          ],
          "scattercarpet": [
           {
            "marker": {
             "colorbar": {
              "outlinewidth": 0,
              "ticks": ""
             }
            },
            "type": "scattercarpet"
           }
          ],
          "scattergeo": [
           {
            "marker": {
             "colorbar": {
              "outlinewidth": 0,
              "ticks": ""
             }
            },
            "type": "scattergeo"
           }
          ],
          "scattergl": [
           {
            "marker": {
             "colorbar": {
              "outlinewidth": 0,
              "ticks": ""
             }
            },
            "type": "scattergl"
           }
          ],
          "scattermapbox": [
           {
            "marker": {
             "colorbar": {
              "outlinewidth": 0,
              "ticks": ""
             }
            },
            "type": "scattermapbox"
           }
          ],
          "scatterpolar": [
           {
            "marker": {
             "colorbar": {
              "outlinewidth": 0,
              "ticks": ""
             }
            },
            "type": "scatterpolar"
           }
          ],
          "scatterpolargl": [
           {
            "marker": {
             "colorbar": {
              "outlinewidth": 0,
              "ticks": ""
             }
            },
            "type": "scatterpolargl"
           }
          ],
          "scatterternary": [
           {
            "marker": {
             "colorbar": {
              "outlinewidth": 0,
              "ticks": ""
             }
            },
            "type": "scatterternary"
           }
          ],
          "surface": [
           {
            "colorbar": {
             "outlinewidth": 0,
             "ticks": ""
            },
            "colorscale": [
             [
              0,
              "#0d0887"
             ],
             [
              0.1111111111111111,
              "#46039f"
             ],
             [
              0.2222222222222222,
              "#7201a8"
             ],
             [
              0.3333333333333333,
              "#9c179e"
             ],
             [
              0.4444444444444444,
              "#bd3786"
             ],
             [
              0.5555555555555556,
              "#d8576b"
             ],
             [
              0.6666666666666666,
              "#ed7953"
             ],
             [
              0.7777777777777778,
              "#fb9f3a"
             ],
             [
              0.8888888888888888,
              "#fdca26"
             ],
             [
              1,
              "#f0f921"
             ]
            ],
            "type": "surface"
           }
          ],
          "table": [
           {
            "cells": {
             "fill": {
              "color": "#EBF0F8"
             },
             "line": {
              "color": "white"
             }
            },
            "header": {
             "fill": {
              "color": "#C8D4E3"
             },
             "line": {
              "color": "white"
             }
            },
            "type": "table"
           }
          ]
         },
         "layout": {
          "annotationdefaults": {
           "arrowcolor": "#2a3f5f",
           "arrowhead": 0,
           "arrowwidth": 1
          },
          "autotypenumbers": "strict",
          "coloraxis": {
           "colorbar": {
            "outlinewidth": 0,
            "ticks": ""
           }
          },
          "colorscale": {
           "diverging": [
            [
             0,
             "#8e0152"
            ],
            [
             0.1,
             "#c51b7d"
            ],
            [
             0.2,
             "#de77ae"
            ],
            [
             0.3,
             "#f1b6da"
            ],
            [
             0.4,
             "#fde0ef"
            ],
            [
             0.5,
             "#f7f7f7"
            ],
            [
             0.6,
             "#e6f5d0"
            ],
            [
             0.7,
             "#b8e186"
            ],
            [
             0.8,
             "#7fbc41"
            ],
            [
             0.9,
             "#4d9221"
            ],
            [
             1,
             "#276419"
            ]
           ],
           "sequential": [
            [
             0,
             "#0d0887"
            ],
            [
             0.1111111111111111,
             "#46039f"
            ],
            [
             0.2222222222222222,
             "#7201a8"
            ],
            [
             0.3333333333333333,
             "#9c179e"
            ],
            [
             0.4444444444444444,
             "#bd3786"
            ],
            [
             0.5555555555555556,
             "#d8576b"
            ],
            [
             0.6666666666666666,
             "#ed7953"
            ],
            [
             0.7777777777777778,
             "#fb9f3a"
            ],
            [
             0.8888888888888888,
             "#fdca26"
            ],
            [
             1,
             "#f0f921"
            ]
           ],
           "sequentialminus": [
            [
             0,
             "#0d0887"
            ],
            [
             0.1111111111111111,
             "#46039f"
            ],
            [
             0.2222222222222222,
             "#7201a8"
            ],
            [
             0.3333333333333333,
             "#9c179e"
            ],
            [
             0.4444444444444444,
             "#bd3786"
            ],
            [
             0.5555555555555556,
             "#d8576b"
            ],
            [
             0.6666666666666666,
             "#ed7953"
            ],
            [
             0.7777777777777778,
             "#fb9f3a"
            ],
            [
             0.8888888888888888,
             "#fdca26"
            ],
            [
             1,
             "#f0f921"
            ]
           ]
          },
          "colorway": [
           "#636efa",
           "#EF553B",
           "#00cc96",
           "#ab63fa",
           "#FFA15A",
           "#19d3f3",
           "#FF6692",
           "#B6E880",
           "#FF97FF",
           "#FECB52"
          ],
          "font": {
           "color": "#2a3f5f"
          },
          "geo": {
           "bgcolor": "white",
           "lakecolor": "white",
           "landcolor": "white",
           "showlakes": true,
           "showland": true,
           "subunitcolor": "#C8D4E3"
          },
          "hoverlabel": {
           "align": "left"
          },
          "hovermode": "closest",
          "mapbox": {
           "style": "light"
          },
          "paper_bgcolor": "white",
          "plot_bgcolor": "white",
          "polar": {
           "angularaxis": {
            "gridcolor": "#EBF0F8",
            "linecolor": "#EBF0F8",
            "ticks": ""
           },
           "bgcolor": "white",
           "radialaxis": {
            "gridcolor": "#EBF0F8",
            "linecolor": "#EBF0F8",
            "ticks": ""
           }
          },
          "scene": {
           "xaxis": {
            "backgroundcolor": "white",
            "gridcolor": "#DFE8F3",
            "gridwidth": 2,
            "linecolor": "#EBF0F8",
            "showbackground": true,
            "ticks": "",
            "zerolinecolor": "#EBF0F8"
           },
           "yaxis": {
            "backgroundcolor": "white",
            "gridcolor": "#DFE8F3",
            "gridwidth": 2,
            "linecolor": "#EBF0F8",
            "showbackground": true,
            "ticks": "",
            "zerolinecolor": "#EBF0F8"
           },
           "zaxis": {
            "backgroundcolor": "white",
            "gridcolor": "#DFE8F3",
            "gridwidth": 2,
            "linecolor": "#EBF0F8",
            "showbackground": true,
            "ticks": "",
            "zerolinecolor": "#EBF0F8"
           }
          },
          "shapedefaults": {
           "line": {
            "color": "#2a3f5f"
           }
          },
          "ternary": {
           "aaxis": {
            "gridcolor": "#DFE8F3",
            "linecolor": "#A2B1C6",
            "ticks": ""
           },
           "baxis": {
            "gridcolor": "#DFE8F3",
            "linecolor": "#A2B1C6",
            "ticks": ""
           },
           "bgcolor": "white",
           "caxis": {
            "gridcolor": "#DFE8F3",
            "linecolor": "#A2B1C6",
            "ticks": ""
           }
          },
          "title": {
           "x": 0.05
          },
          "xaxis": {
           "automargin": true,
           "gridcolor": "#EBF0F8",
           "linecolor": "#EBF0F8",
           "ticks": "",
           "title": {
            "standoff": 15
           },
           "zerolinecolor": "#EBF0F8",
           "zerolinewidth": 2
          },
          "yaxis": {
           "automargin": true,
           "gridcolor": "#EBF0F8",
           "linecolor": "#EBF0F8",
           "ticks": "",
           "title": {
            "standoff": 15
           },
           "zerolinecolor": "#EBF0F8",
           "zerolinewidth": 2
          }
         }
        },
        "title": {
         "font": {
          "color": "Black",
          "size": 22
         },
         "text": "Topic Word Scores",
         "x": 0.5,
         "xanchor": "center",
         "yanchor": "top"
        },
        "width": 1000,
        "xaxis": {
         "anchor": "y",
         "domain": [
          0,
          0.175
         ],
         "showgrid": true
        },
        "xaxis2": {
         "anchor": "y2",
         "domain": [
          0.275,
          0.45
         ],
         "showgrid": true
        },
        "xaxis3": {
         "anchor": "y3",
         "domain": [
          0.55,
          0.7250000000000001
         ],
         "showgrid": true
        },
        "xaxis4": {
         "anchor": "y4",
         "domain": [
          0.825,
          1
         ],
         "showgrid": true
        },
        "xaxis5": {
         "anchor": "y5",
         "domain": [
          0,
          0.175
         ],
         "showgrid": true
        },
        "xaxis6": {
         "anchor": "y6",
         "domain": [
          0.275,
          0.45
         ],
         "showgrid": true
        },
        "xaxis7": {
         "anchor": "y7",
         "domain": [
          0.55,
          0.7250000000000001
         ],
         "showgrid": true
        },
        "xaxis8": {
         "anchor": "y8",
         "domain": [
          0.825,
          1
         ],
         "showgrid": true
        },
        "yaxis": {
         "anchor": "x",
         "domain": [
          0.6000000000000001,
          1
         ],
         "showgrid": true
        },
        "yaxis2": {
         "anchor": "x2",
         "domain": [
          0.6000000000000001,
          1
         ],
         "showgrid": true
        },
        "yaxis3": {
         "anchor": "x3",
         "domain": [
          0.6000000000000001,
          1
         ],
         "showgrid": true
        },
        "yaxis4": {
         "anchor": "x4",
         "domain": [
          0.6000000000000001,
          1
         ],
         "showgrid": true
        },
        "yaxis5": {
         "anchor": "x5",
         "domain": [
          0,
          0.4
         ],
         "showgrid": true
        },
        "yaxis6": {
         "anchor": "x6",
         "domain": [
          0,
          0.4
         ],
         "showgrid": true
        },
        "yaxis7": {
         "anchor": "x7",
         "domain": [
          0,
          0.4
         ],
         "showgrid": true
        },
        "yaxis8": {
         "anchor": "x8",
         "domain": [
          0,
          0.4
         ],
         "showgrid": true
        }
       }
      }
     },
     "metadata": {},
     "output_type": "display_data"
    }
   ],
   "source": [
    "#model with indeed data \n",
    "topic_model_in.visualize_barchart(top_n_topics=5)"
   ]
  },
  {
   "cell_type": "code",
   "execution_count": null,
   "metadata": {},
   "outputs": [
    {
     "name": "stdout",
     "output_type": "stream",
     "text": [
      "     Topic  Count                                               Name\n",
      "0       -1   2306        -1_experience_management_cybersecurity_risk\n",
      "1        0     95             0_students_teaching_faculty_curriculum\n",
      "2        1     89                 1_automotive_zf_uber_cybersecurity\n",
      "3        2     88  2_security officer_dod_officer isso_systems se...\n",
      "4        3     58  3_gsk_security architecture_security architect...\n",
      "..     ...    ...                                                ...\n",
      "440    439      5  439_business analyst_kawartha_cyber security_p...\n",
      "441    440      5  440_cibc_cibc information_strengths ambitions_...\n",
      "442    441      5      441_chase_jpmorgan chase_risk control_banking\n",
      "443    442      5       442_new york_chamber_alpha omega_mvp systems\n",
      "444    443      5  443_cloud forensics_forensics_forensics analys...\n",
      "\n",
      "[445 rows x 3 columns]\n"
     ]
    }
   ],
   "source": [
    "freq = topic_model_in.get_topic_info() \n",
    "print(freq)"
   ]
  },
  {
   "cell_type": "code",
   "execution_count": null,
   "metadata": {},
   "outputs": [
    {
     "data": {
      "text/html": [
       "<div>\n",
       "<style scoped>\n",
       "    .dataframe tbody tr th:only-of-type {\n",
       "        vertical-align: middle;\n",
       "    }\n",
       "\n",
       "    .dataframe tbody tr th {\n",
       "        vertical-align: top;\n",
       "    }\n",
       "\n",
       "    .dataframe thead th {\n",
       "        text-align: right;\n",
       "    }\n",
       "</style>\n",
       "<table border=\"1\" class=\"dataframe\">\n",
       "  <thead>\n",
       "    <tr style=\"text-align: right;\">\n",
       "      <th></th>\n",
       "      <th>Topic</th>\n",
       "      <th>Count</th>\n",
       "      <th>Name</th>\n",
       "    </tr>\n",
       "  </thead>\n",
       "  <tbody>\n",
       "    <tr>\n",
       "      <th>0</th>\n",
       "      <td>-1</td>\n",
       "      <td>921</td>\n",
       "      <td>-1_security_experience_cybersecurity_risk</td>\n",
       "    </tr>\n",
       "    <tr>\n",
       "      <th>1</th>\n",
       "      <td>0</td>\n",
       "      <td>2007</td>\n",
       "      <td>0_experience_management_cybersecurity_informat...</td>\n",
       "    </tr>\n",
       "    <tr>\n",
       "      <th>2</th>\n",
       "      <td>1</td>\n",
       "      <td>220</td>\n",
       "      <td>1_ctg_cerner millennium_application_millennium...</td>\n",
       "    </tr>\n",
       "    <tr>\n",
       "      <th>3</th>\n",
       "      <td>2</td>\n",
       "      <td>204</td>\n",
       "      <td>2_cloud_azure_architect_services</td>\n",
       "    </tr>\n",
       "    <tr>\n",
       "      <th>4</th>\n",
       "      <td>3</td>\n",
       "      <td>175</td>\n",
       "      <td>3_rubrik_minimum maximum_salaries role_cloud</td>\n",
       "    </tr>\n",
       "    <tr>\n",
       "      <th>5</th>\n",
       "      <td>4</td>\n",
       "      <td>152</td>\n",
       "      <td>4_competitive intelligence_relations_analyst r...</td>\n",
       "    </tr>\n",
       "    <tr>\n",
       "      <th>6</th>\n",
       "      <td>5</td>\n",
       "      <td>120</td>\n",
       "      <td>5_gdit_requirements_cybersecurity_years</td>\n",
       "    </tr>\n",
       "    <tr>\n",
       "      <th>7</th>\n",
       "      <td>6</td>\n",
       "      <td>100</td>\n",
       "      <td>6_applicable experience_years applicable_wells...</td>\n",
       "    </tr>\n",
       "    <tr>\n",
       "      <th>8</th>\n",
       "      <td>7</td>\n",
       "      <td>78</td>\n",
       "      <td>7_security_network environment_network securit...</td>\n",
       "    </tr>\n",
       "    <tr>\n",
       "      <th>9</th>\n",
       "      <td>8</td>\n",
       "      <td>68</td>\n",
       "      <td>8_cardinal_cardinal health_organization_health...</td>\n",
       "    </tr>\n",
       "    <tr>\n",
       "      <th>10</th>\n",
       "      <td>9</td>\n",
       "      <td>67</td>\n",
       "      <td>9_td bank_information security_navy federal_to...</td>\n",
       "    </tr>\n",
       "    <tr>\n",
       "      <th>11</th>\n",
       "      <td>10</td>\n",
       "      <td>65</td>\n",
       "      <td>10_soc_soc analyst_security soc_certifications</td>\n",
       "    </tr>\n",
       "    <tr>\n",
       "      <th>12</th>\n",
       "      <td>11</td>\n",
       "      <td>55</td>\n",
       "      <td>11_northrop grumman_employees_security_program</td>\n",
       "    </tr>\n",
       "    <tr>\n",
       "      <th>13</th>\n",
       "      <td>12</td>\n",
       "      <td>52</td>\n",
       "      <td>12_ordinance_navair digital_capabilities navai...</td>\n",
       "    </tr>\n",
       "    <tr>\n",
       "      <th>14</th>\n",
       "      <td>13</td>\n",
       "      <td>46</td>\n",
       "      <td>13_trellix_customer success_cybersecurity_role</td>\n",
       "    </tr>\n",
       "    <tr>\n",
       "      <th>15</th>\n",
       "      <td>14</td>\n",
       "      <td>46</td>\n",
       "      <td>14_click applicants_residing brazil_financial_...</td>\n",
       "    </tr>\n",
       "    <tr>\n",
       "      <th>16</th>\n",
       "      <td>15</td>\n",
       "      <td>46</td>\n",
       "      <td>15_heart association_configuration management_...</td>\n",
       "    </tr>\n",
       "    <tr>\n",
       "      <th>17</th>\n",
       "      <td>16</td>\n",
       "      <td>42</td>\n",
       "      <td>16_forensic_evidence_forensics_noblis</td>\n",
       "    </tr>\n",
       "    <tr>\n",
       "      <th>18</th>\n",
       "      <td>17</td>\n",
       "      <td>39</td>\n",
       "      <td>17_xerox_incident response_response lead_exper...</td>\n",
       "    </tr>\n",
       "    <tr>\n",
       "      <th>19</th>\n",
       "      <td>18</td>\n",
       "      <td>35</td>\n",
       "      <td>18_eaton_security_cloud_aon</td>\n",
       "    </tr>\n",
       "    <tr>\n",
       "      <th>20</th>\n",
       "      <td>19</td>\n",
       "      <td>31</td>\n",
       "      <td>19_mobile_security_cybersecurity_info security</td>\n",
       "    </tr>\n",
       "    <tr>\n",
       "      <th>21</th>\n",
       "      <td>20</td>\n",
       "      <td>31</td>\n",
       "      <td>20_litigation_foia_help clients_new foia</td>\n",
       "    </tr>\n",
       "    <tr>\n",
       "      <th>22</th>\n",
       "      <td>21</td>\n",
       "      <td>31</td>\n",
       "      <td>21_travelers_automation_preferred experience_c...</td>\n",
       "    </tr>\n",
       "    <tr>\n",
       "      <th>23</th>\n",
       "      <td>22</td>\n",
       "      <td>31</td>\n",
       "      <td>22_adfs_active directory_ad okta_cbre equal</td>\n",
       "    </tr>\n",
       "    <tr>\n",
       "      <th>24</th>\n",
       "      <td>23</td>\n",
       "      <td>31</td>\n",
       "      <td>23_dhs_dhs cybersecurity_cybersecurity service...</td>\n",
       "    </tr>\n",
       "    <tr>\n",
       "      <th>25</th>\n",
       "      <td>24</td>\n",
       "      <td>29</td>\n",
       "      <td>24_maryland usa_apply booz_usa apply_allen emp...</td>\n",
       "    </tr>\n",
       "    <tr>\n",
       "      <th>26</th>\n",
       "      <td>25</td>\n",
       "      <td>29</td>\n",
       "      <td>25_oracle_annum eligible_eligible equity_roles</td>\n",
       "    </tr>\n",
       "    <tr>\n",
       "      <th>27</th>\n",
       "      <td>26</td>\n",
       "      <td>29</td>\n",
       "      <td>26_security_honeywell_engineering_lockheed martin</td>\n",
       "    </tr>\n",
       "    <tr>\n",
       "      <th>28</th>\n",
       "      <td>27</td>\n",
       "      <td>26</td>\n",
       "      <td>27_penetration testing_tester_ukg_penetration ...</td>\n",
       "    </tr>\n",
       "    <tr>\n",
       "      <th>29</th>\n",
       "      <td>28</td>\n",
       "      <td>25</td>\n",
       "      <td>28_amex_express_key management_professionally</td>\n",
       "    </tr>\n",
       "    <tr>\n",
       "      <th>30</th>\n",
       "      <td>29</td>\n",
       "      <td>25</td>\n",
       "      <td>29_parsons_cox_privacy_cybersecurity</td>\n",
       "    </tr>\n",
       "    <tr>\n",
       "      <th>31</th>\n",
       "      <td>30</td>\n",
       "      <td>24</td>\n",
       "      <td>30_arial_sans serif_security_serif times</td>\n",
       "    </tr>\n",
       "    <tr>\n",
       "      <th>32</th>\n",
       "      <td>31</td>\n",
       "      <td>22</td>\n",
       "      <td>31_research_rush_medidata_peraton labs</td>\n",
       "    </tr>\n",
       "    <tr>\n",
       "      <th>33</th>\n",
       "      <td>32</td>\n",
       "      <td>22</td>\n",
       "      <td>32_marketing_leader cybersecurity_crowdstrike ...</td>\n",
       "    </tr>\n",
       "    <tr>\n",
       "      <th>34</th>\n",
       "      <td>33</td>\n",
       "      <td>20</td>\n",
       "      <td>33_inspection_national guard_guard_safety</td>\n",
       "    </tr>\n",
       "    <tr>\n",
       "      <th>35</th>\n",
       "      <td>34</td>\n",
       "      <td>20</td>\n",
       "      <td>34_somatus_somatus security_duties responsibil...</td>\n",
       "    </tr>\n",
       "    <tr>\n",
       "      <th>36</th>\n",
       "      <td>35</td>\n",
       "      <td>19</td>\n",
       "      <td>35_ussocom_ussocom component_deployed forces_c...</td>\n",
       "    </tr>\n",
       "    <tr>\n",
       "      <th>37</th>\n",
       "      <td>36</td>\n",
       "      <td>14</td>\n",
       "      <td>36_splunk_dashboards_splunk engineer_splunk de...</td>\n",
       "    </tr>\n",
       "    <tr>\n",
       "      <th>38</th>\n",
       "      <td>37</td>\n",
       "      <td>14</td>\n",
       "      <td>37_intern_internship_ibm_cybersecurity</td>\n",
       "    </tr>\n",
       "    <tr>\n",
       "      <th>39</th>\n",
       "      <td>38</td>\n",
       "      <td>13</td>\n",
       "      <td>38_palo alto_firewalls_cisco_network security</td>\n",
       "    </tr>\n",
       "    <tr>\n",
       "      <th>40</th>\n",
       "      <td>39</td>\n",
       "      <td>12</td>\n",
       "      <td>39_robert half_contract temporary_jobs_brendan...</td>\n",
       "    </tr>\n",
       "    <tr>\n",
       "      <th>41</th>\n",
       "      <td>40</td>\n",
       "      <td>10</td>\n",
       "      <td>40_comcast provides_sales positions_network se...</td>\n",
       "    </tr>\n",
       "    <tr>\n",
       "      <th>42</th>\n",
       "      <td>41</td>\n",
       "      <td>8</td>\n",
       "      <td>41_logicalis_security offerings_logicalis secu...</td>\n",
       "    </tr>\n",
       "    <tr>\n",
       "      <th>43</th>\n",
       "      <td>42</td>\n",
       "      <td>8</td>\n",
       "      <td>42_live nation_united airlines_airlines_airline</td>\n",
       "    </tr>\n",
       "    <tr>\n",
       "      <th>44</th>\n",
       "      <td>43</td>\n",
       "      <td>7</td>\n",
       "      <td>43_bigbear ai_ai_vulnerability_environments bi...</td>\n",
       "    </tr>\n",
       "    <tr>\n",
       "      <th>45</th>\n",
       "      <td>44</td>\n",
       "      <td>6</td>\n",
       "      <td>44_criterion_criterion systems_security_expert...</td>\n",
       "    </tr>\n",
       "    <tr>\n",
       "      <th>46</th>\n",
       "      <td>45</td>\n",
       "      <td>6</td>\n",
       "      <td>45_fusion technology_noaa_comprehensive_test t...</td>\n",
       "    </tr>\n",
       "    <tr>\n",
       "      <th>47</th>\n",
       "      <td>46</td>\n",
       "      <td>6</td>\n",
       "      <td>46_security_technologies_shift_essential funct...</td>\n",
       "    </tr>\n",
       "    <tr>\n",
       "      <th>48</th>\n",
       "      <td>47</td>\n",
       "      <td>6</td>\n",
       "      <td>47_skyepoint decisions_penetration testing_sky...</td>\n",
       "    </tr>\n",
       "    <tr>\n",
       "      <th>49</th>\n",
       "      <td>48</td>\n",
       "      <td>6</td>\n",
       "      <td>48_workday_workday security_workday hcm_design</td>\n",
       "    </tr>\n",
       "  </tbody>\n",
       "</table>\n",
       "</div>"
      ],
      "text/plain": [
       "    Topic  Count                                               Name\n",
       "0      -1    921          -1_security_experience_cybersecurity_risk\n",
       "1       0   2007  0_experience_management_cybersecurity_informat...\n",
       "2       1    220  1_ctg_cerner millennium_application_millennium...\n",
       "3       2    204                   2_cloud_azure_architect_services\n",
       "4       3    175       3_rubrik_minimum maximum_salaries role_cloud\n",
       "5       4    152  4_competitive intelligence_relations_analyst r...\n",
       "6       5    120            5_gdit_requirements_cybersecurity_years\n",
       "7       6    100  6_applicable experience_years applicable_wells...\n",
       "8       7     78  7_security_network environment_network securit...\n",
       "9       8     68  8_cardinal_cardinal health_organization_health...\n",
       "10      9     67  9_td bank_information security_navy federal_to...\n",
       "11     10     65     10_soc_soc analyst_security soc_certifications\n",
       "12     11     55     11_northrop grumman_employees_security_program\n",
       "13     12     52  12_ordinance_navair digital_capabilities navai...\n",
       "14     13     46     13_trellix_customer success_cybersecurity_role\n",
       "15     14     46  14_click applicants_residing brazil_financial_...\n",
       "16     15     46  15_heart association_configuration management_...\n",
       "17     16     42              16_forensic_evidence_forensics_noblis\n",
       "18     17     39  17_xerox_incident response_response lead_exper...\n",
       "19     18     35                        18_eaton_security_cloud_aon\n",
       "20     19     31     19_mobile_security_cybersecurity_info security\n",
       "21     20     31           20_litigation_foia_help clients_new foia\n",
       "22     21     31  21_travelers_automation_preferred experience_c...\n",
       "23     22     31        22_adfs_active directory_ad okta_cbre equal\n",
       "24     23     31  23_dhs_dhs cybersecurity_cybersecurity service...\n",
       "25     24     29  24_maryland usa_apply booz_usa apply_allen emp...\n",
       "26     25     29     25_oracle_annum eligible_eligible equity_roles\n",
       "27     26     29  26_security_honeywell_engineering_lockheed martin\n",
       "28     27     26  27_penetration testing_tester_ukg_penetration ...\n",
       "29     28     25      28_amex_express_key management_professionally\n",
       "30     29     25               29_parsons_cox_privacy_cybersecurity\n",
       "31     30     24           30_arial_sans serif_security_serif times\n",
       "32     31     22             31_research_rush_medidata_peraton labs\n",
       "33     32     22  32_marketing_leader cybersecurity_crowdstrike ...\n",
       "34     33     20          33_inspection_national guard_guard_safety\n",
       "35     34     20  34_somatus_somatus security_duties responsibil...\n",
       "36     35     19  35_ussocom_ussocom component_deployed forces_c...\n",
       "37     36     14  36_splunk_dashboards_splunk engineer_splunk de...\n",
       "38     37     14             37_intern_internship_ibm_cybersecurity\n",
       "39     38     13      38_palo alto_firewalls_cisco_network security\n",
       "40     39     12  39_robert half_contract temporary_jobs_brendan...\n",
       "41     40     10  40_comcast provides_sales positions_network se...\n",
       "42     41      8  41_logicalis_security offerings_logicalis secu...\n",
       "43     42      8    42_live nation_united airlines_airlines_airline\n",
       "44     43      7  43_bigbear ai_ai_vulnerability_environments bi...\n",
       "45     44      6  44_criterion_criterion systems_security_expert...\n",
       "46     45      6  45_fusion technology_noaa_comprehensive_test t...\n",
       "47     46      6  46_security_technologies_shift_essential funct...\n",
       "48     47      6  47_skyepoint decisions_penetration testing_sky...\n",
       "49     48      6     48_workday_workday security_workday hcm_design"
      ]
     },
     "execution_count": 24,
     "metadata": {},
     "output_type": "execute_result"
    }
   ],
   "source": [
    "topic_model.get_topic_info()"
   ]
  },
  {
   "cell_type": "code",
   "execution_count": null,
   "metadata": {},
   "outputs": [
    {
     "data": {
      "text/plain": [
       "[('click applicants', 0.02739537698842505),\n",
       " ('residing brazil', 0.019803918514052617),\n",
       " ('financial', 0.018384542937388153),\n",
       " ('applicants', 0.018122333504819437),\n",
       " ('accessibility support', 0.015507425807820304),\n",
       " ('base salary', 0.013785058106428915),\n",
       " ('security solutions', 0.011310817124772988),\n",
       " ('support tiaa', 0.010953477711034812),\n",
       " ('applicants tiaa', 0.010953477711034812),\n",
       " ('nuveen affiliates', 0.010953477711034812)]"
      ]
     },
     "execution_count": 25,
     "metadata": {},
     "output_type": "execute_result"
    }
   ],
   "source": [
    "#keywords present in our top topics \n",
    "topic_model.get_topic(freq.iloc[15][\"Topic\"])"
   ]
  }
 ],
 "metadata": {
  "kernelspec": {
   "display_name": "Python 3",
   "language": "python",
   "name": "python3"
  },
  "language_info": {
   "codemirror_mode": {
    "name": "ipython",
    "version": 3
   },
   "file_extension": ".py",
   "mimetype": "text/x-python",
   "name": "python",
   "nbconvert_exporter": "python",
   "pygments_lexer": "ipython3",
   "version": "3.9.13"
  },
  "orig_nbformat": 4
 },
 "nbformat": 4,
 "nbformat_minor": 2
}
