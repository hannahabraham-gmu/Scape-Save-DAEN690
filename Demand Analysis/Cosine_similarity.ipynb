{
 "cells": [
  {
   "cell_type": "code",
   "execution_count": 1,
   "id": "edb75535",
   "metadata": {},
   "outputs": [],
   "source": [
    "import pandas as pd\n",
    "from sklearn.metrics.pairwise import cosine_similarity\n",
    "from sklearn.feature_extraction.text import TfidfVectorizer\n",
    "import tabulate\n",
    "import warnings\n",
    "warnings.filterwarnings('ignore')\n",
    "\n",
    "# Load datasets\n",
    "df_nice = pd.read_csv('job_descriptions.csv')\n",
    "df_career = pd.read_excel('C:/Users/mrina/Downloads/careeronestop_data (1).xlsx')"
   ]
  },
  {
   "cell_type": "code",
   "execution_count": 3,
   "id": "41784295",
   "metadata": {
    "scrolled": true
   },
   "outputs": [
    {
     "name": "stdout",
     "output_type": "stream",
     "text": [
      "cosine similarity mean for Chief Information Security Officer (CISO)\n",
      "            cosine_similarity\n",
      "nice_index                   \n",
      "Analyze              0.075308\n",
      "IN                   0.070427\n",
      "OM                   0.086798\n",
      "OV                   0.108270\n",
      "OV                   0.131326\n",
      "SP                   0.097830\n",
      "cosine similarity mean for Cybersecurity Analyst\n",
      "            cosine_similarity\n",
      "nice_index                   \n",
      "Analyze              0.077430\n",
      "IN                   0.071992\n",
      "OM                   0.080169\n",
      "OV                   0.099415\n",
      "OV                   0.113206\n",
      "SP                   0.090154\n"
     ]
    }
   ],
   "source": [
    "for k in ['Chief Information Security Officer (CISO)',\n",
    "       'Cybersecurity Analyst']:\n",
    "    df_career_1=df_career[df_career['keyword']==k]\n",
    "    # Define TF-IDF vectorizer\n",
    "    tfidf = TfidfVectorizer()\n",
    "    # Compute TF-IDF vectors for NICE dataset\n",
    "    tfidf_nice = tfidf.fit_transform(df_nice['ksat'])\n",
    "    # Compute TF-IDF vectors for CareerOneStop dataset\n",
    "    df_career_1['description']=df_career_1['description'].fillna('')\n",
    "    tfidf_career = tfidf.transform(df_career_1['description'])\n",
    "    cosine_similarities = []\n",
    "    for i in range(len(df_career_1)):\n",
    "        for j in range(len(df_nice)):\n",
    "            cs = cosine_similarity(tfidf_career[i], tfidf_nice[j])\n",
    "            cosine_similarities.append({'career_index': df_career_1.iloc[i,0], 'nice_index': df_nice.iloc[j,0], 'cosine_similarity': cs[0][0]})\n",
    "    cosine_similarities = pd.DataFrame(cosine_similarities)\n",
    "    print('cosine similarity mean for '+str(k))\n",
    "    print(cosine_similarities.groupby('nice_index').mean())"
   ]
  },
  {
   "cell_type": "code",
   "execution_count": 4,
   "id": "1d7ab164",
   "metadata": {},
   "outputs": [
    {
     "name": "stdout",
     "output_type": "stream",
     "text": [
      "cosine similarity mean for Penetration Tester\n",
      "            cosine_similarity\n",
      "nice_index                   \n",
      "Analyze              0.075074\n",
      "IN                   0.070223\n",
      "OM                   0.078255\n",
      "OV                   0.091486\n",
      "OV                   0.104302\n",
      "SP                   0.088944\n",
      "cosine similarity mean for Cybersecurity Engineer\n",
      "            cosine_similarity\n",
      "nice_index                   \n",
      "Analyze              0.072712\n",
      "IN                   0.068240\n",
      "OM                   0.078501\n",
      "OV                   0.095354\n",
      "OV                   0.109527\n",
      "SP                   0.090399\n"
     ]
    }
   ],
   "source": [
    "for k in ['Penetration Tester','Cybersecurity Engineer']:\n",
    "    df_career_1=df_career[df_career['keyword']==k]\n",
    "    # Define TF-IDF vectorizer\n",
    "    tfidf = TfidfVectorizer()\n",
    "    # Compute TF-IDF vectors for NICE dataset\n",
    "    tfidf_nice = tfidf.fit_transform(df_nice['ksat'])\n",
    "    # Compute TF-IDF vectors for CareerOneStop dataset\n",
    "    df_career_1['description']=df_career_1['description'].fillna('')\n",
    "    tfidf_career = tfidf.transform(df_career_1['description'])\n",
    "    cosine_similarities = []\n",
    "    for i in range(len(df_career_1)):\n",
    "        for j in range(len(df_nice)):\n",
    "            cs = cosine_similarity(tfidf_career[i], tfidf_nice[j])\n",
    "            cosine_similarities.append({'career_index': df_career_1.iloc[i,0], 'nice_index': df_nice.iloc[j,0], 'cosine_similarity': cs[0][0]})\n",
    "    cosine_similarities = pd.DataFrame(cosine_similarities)\n",
    "    print('cosine similarity mean for '+str(k))\n",
    "    print(cosine_similarities.groupby('nice_index').mean())"
   ]
  },
  {
   "cell_type": "code",
   "execution_count": 5,
   "id": "3ffeafc6",
   "metadata": {},
   "outputs": [
    {
     "name": "stdout",
     "output_type": "stream",
     "text": [
      "cosine similarity mean for Security Architect\n",
      "            cosine_similarity\n",
      "nice_index                   \n",
      "Analyze              0.075245\n",
      "IN                   0.068866\n",
      "OM                   0.080543\n",
      "OV                   0.098312\n",
      "OV                   0.112601\n",
      "SP                   0.092220\n",
      "cosine similarity mean for Computer Forensics Analyst\n",
      "            cosine_similarity\n",
      "nice_index                   \n",
      "Analyze              0.079005\n",
      "IN                   0.077277\n",
      "OM                   0.077446\n",
      "OV                   0.093449\n",
      "OV                   0.105168\n",
      "SP                   0.084764\n"
     ]
    }
   ],
   "source": [
    "for k in ['Security Architect','Computer Forensics Analyst']:\n",
    "    df_career_1=df_career[df_career['keyword']==k]\n",
    "    # Define TF-IDF vectorizer\n",
    "    tfidf = TfidfVectorizer()\n",
    "    # Compute TF-IDF vectors for NICE dataset\n",
    "    tfidf_nice = tfidf.fit_transform(df_nice['ksat'])\n",
    "    # Compute TF-IDF vectors for CareerOneStop dataset\n",
    "    df_career_1['description']=df_career_1['description'].fillna('')\n",
    "    tfidf_career = tfidf.transform(df_career_1['description'])\n",
    "    cosine_similarities = []\n",
    "    for i in range(len(df_career_1)):\n",
    "        for j in range(len(df_nice)):\n",
    "            cs = cosine_similarity(tfidf_career[i], tfidf_nice[j])\n",
    "            cosine_similarities.append({'career_index': df_career_1.iloc[i,0], 'nice_index': df_nice.iloc[j,0], 'cosine_similarity': cs[0][0]})\n",
    "    cosine_similarities = pd.DataFrame(cosine_similarities)\n",
    "    print('cosine similarity mean for '+str(k))\n",
    "    print(cosine_similarities.groupby('nice_index').mean())"
   ]
  },
  {
   "cell_type": "code",
   "execution_count": 6,
   "id": "899995fb",
   "metadata": {},
   "outputs": [
    {
     "name": "stdout",
     "output_type": "stream",
     "text": [
      "cosine similarity mean for Network Security Architect\n",
      "            cosine_similarity\n",
      "nice_index                   \n",
      "Analyze              0.071784\n",
      "IN                   0.065662\n",
      "OM                   0.080145\n",
      "OV                   0.092273\n",
      "OV                   0.104904\n",
      "SP                   0.089755\n",
      "cosine similarity mean for Cybersecurity Architect\n",
      "            cosine_similarity\n",
      "nice_index                   \n",
      "Analyze              0.073794\n",
      "IN                   0.067534\n",
      "OM                   0.078205\n",
      "OV                   0.096316\n",
      "OV                   0.109420\n",
      "SP                   0.089742\n"
     ]
    }
   ],
   "source": [
    "for k in ['Network Security Architect','Cybersecurity Architect']:\n",
    "    df_career_1=df_career[df_career['keyword']==k]\n",
    "    # Define TF-IDF vectorizer\n",
    "    tfidf = TfidfVectorizer()\n",
    "    # Compute TF-IDF vectors for NICE dataset\n",
    "    tfidf_nice = tfidf.fit_transform(df_nice['ksat'])\n",
    "    # Compute TF-IDF vectors for CareerOneStop dataset\n",
    "    df_career_1['description']=df_career_1['description'].fillna('')\n",
    "    tfidf_career = tfidf.transform(df_career_1['description'])\n",
    "    cosine_similarities = []\n",
    "    for i in range(len(df_career_1)):\n",
    "        for j in range(len(df_nice)):\n",
    "            cs = cosine_similarity(tfidf_career[i], tfidf_nice[j])\n",
    "            cosine_similarities.append({'career_index': df_career_1.iloc[i,0], 'nice_index': df_nice.iloc[j,0], 'cosine_similarity': cs[0][0]})\n",
    "    cosine_similarities = pd.DataFrame(cosine_similarities)\n",
    "    print('cosine similarity mean for '+str(k))\n",
    "    print(cosine_similarities.groupby('nice_index').mean())"
   ]
  },
  {
   "cell_type": "code",
   "execution_count": 8,
   "id": "a07ebe38",
   "metadata": {},
   "outputs": [
    {
     "name": "stdout",
     "output_type": "stream",
     "text": [
      "cosine similarity mean for Information Security Consultant\n",
      "            cosine_similarity\n",
      "nice_index                   \n",
      "Analyze              0.069367\n",
      "IN                   0.064886\n",
      "OM                   0.079207\n",
      "OV                   0.095004\n",
      "OV                   0.113403\n",
      "SP                   0.090655\n",
      "cosine similarity mean for Cybersecurity Consultant\n",
      "            cosine_similarity\n",
      "nice_index                   \n",
      "Analyze              0.076329\n",
      "IN                   0.071763\n",
      "OM                   0.081705\n",
      "OV                   0.099176\n",
      "OV                   0.113396\n",
      "SP                   0.090718\n"
     ]
    }
   ],
   "source": [
    "for k in ['Information Security Consultant','Cybersecurity Consultant']:\n",
    "    df_career_1=df_career[df_career['keyword']==k]\n",
    "    # Define TF-IDF vectorizer\n",
    "    tfidf = TfidfVectorizer()\n",
    "    # Compute TF-IDF vectors for NICE dataset\n",
    "    tfidf_nice = tfidf.fit_transform(df_nice['ksat'])\n",
    "    # Compute TF-IDF vectors for CareerOneStop dataset\n",
    "    df_career_1['description']=df_career_1['description'].fillna('')\n",
    "    tfidf_career = tfidf.transform(df_career_1['description'])\n",
    "    cosine_similarities = []\n",
    "    for i in range(len(df_career_1)):\n",
    "        for j in range(len(df_nice)):\n",
    "            cs = cosine_similarity(tfidf_career[i], tfidf_nice[j])\n",
    "            cosine_similarities.append({'career_index': df_career_1.iloc[i,0], 'nice_index': df_nice.iloc[j,0], 'cosine_similarity': cs[0][0]})\n",
    "    cosine_similarities = pd.DataFrame(cosine_similarities)\n",
    "    print('cosine similarity mean for '+str(k))\n",
    "    print(cosine_similarities.groupby('nice_index').mean())"
   ]
  },
  {
   "cell_type": "code",
   "execution_count": 9,
   "id": "633ced6b",
   "metadata": {},
   "outputs": [
    {
     "name": "stdout",
     "output_type": "stream",
     "text": [
      "cosine similarity mean for Cybersecurity Advisor\n",
      "            cosine_similarity\n",
      "nice_index                   \n",
      "Analyze              0.076215\n",
      "IN                   0.068950\n",
      "OM                   0.077850\n",
      "OV                   0.100668\n",
      "OV                   0.117353\n",
      "SP                   0.088889\n",
      "cosine similarity mean for Ethical Hacker\n",
      "            cosine_similarity\n",
      "nice_index                   \n",
      "Analyze              0.080805\n",
      "IN                   0.075061\n",
      "OM                   0.083483\n",
      "OV                   0.100323\n",
      "OV                   0.115860\n",
      "SP                   0.093846\n"
     ]
    }
   ],
   "source": [
    "for k in ['Cybersecurity Advisor','Ethical Hacker']:\n",
    "    df_career_1=df_career[df_career['keyword']==k]\n",
    "    # Define TF-IDF vectorizer\n",
    "    tfidf = TfidfVectorizer()\n",
    "    # Compute TF-IDF vectors for NICE dataset\n",
    "    tfidf_nice = tfidf.fit_transform(df_nice['ksat'])\n",
    "    # Compute TF-IDF vectors for CareerOneStop dataset\n",
    "    df_career_1['description']=df_career_1['description'].fillna('')\n",
    "    tfidf_career = tfidf.transform(df_career_1['description'])\n",
    "    cosine_similarities = []\n",
    "    for i in range(len(df_career_1)):\n",
    "        for j in range(len(df_nice)):\n",
    "            cs = cosine_similarity(tfidf_career[i], tfidf_nice[j])\n",
    "            cosine_similarities.append({'career_index': df_career_1.iloc[i,0], 'nice_index': df_nice.iloc[j,0], 'cosine_similarity': cs[0][0]})\n",
    "    cosine_similarities = pd.DataFrame(cosine_similarities)\n",
    "    print('cosine similarity mean for '+str(k))\n",
    "    print(cosine_similarities.groupby('nice_index').mean())"
   ]
  },
  {
   "cell_type": "code",
   "execution_count": 10,
   "id": "8d7072a5",
   "metadata": {},
   "outputs": [
    {
     "name": "stdout",
     "output_type": "stream",
     "text": [
      "cosine similarity mean for Information Security Specialist\n",
      "            cosine_similarity\n",
      "nice_index                   \n",
      "Analyze              0.070188\n",
      "IN                   0.063912\n",
      "OM                   0.075176\n",
      "OV                   0.093694\n",
      "OV                   0.110286\n",
      "SP                   0.086053\n",
      "cosine similarity mean for Information Security Architect\n",
      "            cosine_similarity\n",
      "nice_index                   \n",
      "Analyze              0.082509\n",
      "IN                   0.079898\n",
      "OM                   0.096641\n",
      "OV                   0.109798\n",
      "OV                   0.133696\n",
      "SP                   0.112117\n"
     ]
    }
   ],
   "source": [
    "for k in ['Information Security Specialist','Information Security Architect']:\n",
    "    df_career_1=df_career[df_career['keyword']==k]\n",
    "    # Define TF-IDF vectorizer\n",
    "    tfidf = TfidfVectorizer()\n",
    "    # Compute TF-IDF vectors for NICE dataset\n",
    "    tfidf_nice = tfidf.fit_transform(df_nice['ksat'])\n",
    "    # Compute TF-IDF vectors for CareerOneStop dataset\n",
    "    df_career_1['description']=df_career_1['description'].fillna('')\n",
    "    tfidf_career = tfidf.transform(df_career_1['description'])\n",
    "    cosine_similarities = []\n",
    "    for i in range(len(df_career_1)):\n",
    "        for j in range(len(df_nice)):\n",
    "            cs = cosine_similarity(tfidf_career[i], tfidf_nice[j])\n",
    "            cosine_similarities.append({'career_index': df_career_1.iloc[i,0], 'nice_index': df_nice.iloc[j,0], 'cosine_similarity': cs[0][0]})\n",
    "    cosine_similarities = pd.DataFrame(cosine_similarities)\n",
    "    print('cosine similarity mean for '+str(k))\n",
    "    print(cosine_similarities.groupby('nice_index').mean())"
   ]
  },
  {
   "cell_type": "code",
   "execution_count": 11,
   "id": "bc6752f6",
   "metadata": {},
   "outputs": [
    {
     "name": "stdout",
     "output_type": "stream",
     "text": [
      "cosine similarity mean for Security Analyst\n",
      "            cosine_similarity\n",
      "nice_index                   \n",
      "Analyze              0.072825\n",
      "IN                   0.068662\n",
      "OM                   0.076631\n",
      "OV                   0.093725\n",
      "OV                   0.109730\n",
      "SP                   0.086119\n",
      "cosine similarity mean for Information Security Analyst\n",
      "            cosine_similarity\n",
      "nice_index                   \n",
      "Analyze              0.072579\n",
      "IN                   0.067233\n",
      "OM                   0.075871\n",
      "OV                   0.092715\n",
      "OV                   0.108265\n",
      "SP                   0.085154\n",
      "cosine similarity mean for Information Security Engineer\n",
      "            cosine_similarity\n",
      "nice_index                   \n",
      "Analyze              0.073845\n",
      "IN                   0.069799\n",
      "OM                   0.082173\n",
      "OV                   0.097274\n",
      "OV                   0.114365\n",
      "SP                   0.093923\n"
     ]
    }
   ],
   "source": [
    "for k in ['Security Analyst','Information Security Analyst', 'Information Security Engineer']:\n",
    "    df_career_1=df_career[df_career['keyword']==k]\n",
    "    # Define TF-IDF vectorizer\n",
    "    tfidf = TfidfVectorizer()\n",
    "    # Compute TF-IDF vectors for NICE dataset\n",
    "    tfidf_nice = tfidf.fit_transform(df_nice['ksat'])\n",
    "    # Compute TF-IDF vectors for CareerOneStop dataset\n",
    "    df_career_1['description']=df_career_1['description'].fillna('')\n",
    "    tfidf_career = tfidf.transform(df_career_1['description'])\n",
    "    cosine_similarities = []\n",
    "    for i in range(len(df_career_1)):\n",
    "        for j in range(len(df_nice)):\n",
    "            cs = cosine_similarity(tfidf_career[i], tfidf_nice[j])\n",
    "            cosine_similarities.append({'career_index': df_career_1.iloc[i,0], 'nice_index': df_nice.iloc[j,0], 'cosine_similarity': cs[0][0]})\n",
    "    cosine_similarities = pd.DataFrame(cosine_similarities)\n",
    "    print('cosine similarity mean for '+str(k))\n",
    "    print(cosine_similarities.groupby('nice_index').mean())"
   ]
  }
 ],
 "metadata": {
  "kernelspec": {
   "display_name": "Python 3 (ipykernel)",
   "language": "python",
   "name": "python3"
  },
  "language_info": {
   "codemirror_mode": {
    "name": "ipython",
    "version": 3
   },
   "file_extension": ".py",
   "mimetype": "text/x-python",
   "name": "python",
   "nbconvert_exporter": "python",
   "pygments_lexer": "ipython3",
   "version": "3.9.13"
  }
 },
 "nbformat": 4,
 "nbformat_minor": 5
}
