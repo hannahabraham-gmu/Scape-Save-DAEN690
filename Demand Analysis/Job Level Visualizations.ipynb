{
 "cells": [
  {
   "cell_type": "code",
   "execution_count": 2,
   "metadata": {},
   "outputs": [],
   "source": [
    "import pandas as pd \n",
    "import numpy as np\n",
    "import re\n",
    "import string\n",
    "import matplotlib.pyplot as plt\n",
    "import seaborn as sns"
   ]
  },
  {
   "cell_type": "code",
   "execution_count": 6,
   "metadata": {},
   "outputs": [],
   "source": [
    "df = pd.read_csv(\"C:/Users/hanna/Scape-Save-DAEN690/Datasets/indeed_cleaned.csv.gz\") \n",
    "cos_df = pd.read_excel(\"C:/Users/hanna/Scape-Save-DAEN690/Datasets/careeronestop_data.xlsx\")\n",
    "usa_df = pd.read_excel(\"C:/Users/hanna/Scape-Save-DAEN690/Datasets/USAJobs_data.xlsx\")"
   ]
  },
  {
   "cell_type": "code",
   "execution_count": 7,
   "metadata": {},
   "outputs": [],
   "source": [
    "#Remove duplicate postings if the job title, description and location are the same \n",
    "df.drop_duplicates(subset=['job_title', 'description_text', 'location'], inplace=True)\n",
    "cos_df.drop_duplicates(subset=['job_title', 'description', 'location'], inplace=True)\n",
    "usa_df.drop_duplicates(subset=['job_title', 'description', 'location'], inplace=True)"
   ]
  },
  {
   "cell_type": "code",
   "execution_count": 8,
   "metadata": {},
   "outputs": [],
   "source": [
    "def clean(text):\n",
    "    #remove url\n",
    "    output = re.sub(r'https://\\S*','', text)\n",
    "\n",
    "    #remove numerical values \n",
    "    output = ''.join(filter(lambda x: not x.isdigit(), output))\n",
    "\n",
    "    #convert to lowercase \n",
    "    output = output.lower()\n",
    "\n",
    "    #remove \\r, \\n\n",
    "    rep = r'|'.join((r'\\r',r'\\n'))\n",
    "    output = re.sub(rep,'',output)\n",
    "\n",
    "    #remove duplicated punctuation\n",
    "    output = re.sub(r'([!()\\-{};:,<>./?@#$%\\^&*_~]){2,}', lambda x: x.group()[0], output)\n",
    "    \n",
    "    #remove extra space\n",
    "    output = re.sub(r'\\s+', ' ', output).strip()\n",
    "    \n",
    "    #remove string if string only contains punctuation\n",
    "    if sum([i.isalpha() for i in output])== 0:\n",
    "        output = ''\n",
    "        \n",
    "    return output\n",
    "    \n",
    "df['description_text'] = df['description_text'].apply(clean)\n",
    "#convert to unicode\n",
    "cos_df['description'] = (cos_df['description'].values.astype(\"U\"))\n",
    "cos_df['description']= cos_df['description'].apply(clean)\n",
    "usa_df['description'] = usa_df['description'].apply(clean)"
   ]
  },
  {
   "cell_type": "code",
   "execution_count": 9,
   "metadata": {},
   "outputs": [],
   "source": [
    "#Set to lowercase so capitalized titles don't get counted separately\n",
    "def lowercase(out): \n",
    "    out = out.lower()\n",
    "    \n",
    "    return out \n",
    "\n",
    "df['job_type'] = (df['job_type'].values.astype(\"U\"))\n",
    "df['job_title'] = df['job_title'].apply(lowercase)\n",
    "df['job_type'] = df['job_type'].apply(lowercase)\n",
    "#convert to unicode \n",
    "cos_df['job_title'] = (cos_df['job_title'].values.astype(\"U\"))\n",
    "cos_df['job_title'] = cos_df['job_title'].apply(lowercase)\n",
    "usa_df['job_title'] = usa_df['job_title'].apply(lowercase)"
   ]
  },
  {
   "cell_type": "code",
   "execution_count": 10,
   "metadata": {},
   "outputs": [],
   "source": [
    "#Create function to categorize role types \n",
    "\n",
    "def role_type(x):\n",
    "    if 'lead' in x:\n",
    "        return 'senior'\n",
    "    elif 'senior' in x:\n",
    "        return 'senior'\n",
    "    elif 'sr' in x:\n",
    "        return 'senior'\n",
    "    elif 'chief' in x:\n",
    "        return 'upper mgmt'\n",
    "    elif 'manager' in x:\n",
    "        return 'upper mgmt'\n",
    "    elif 'principal' in x:\n",
    "        return 'upper mgmt'\n",
    "    elif 'junior' in x:\n",
    "        return 'entry-level'\n",
    "    elif 'jr' in x:\n",
    "        return 'entry-level'\n",
    "    elif 'entry-level' in x:\n",
    "        return 'entry-level'\n",
    "    elif 'professor' in x: \n",
    "        return 'academia'\n",
    "    elif 'teaching' in x: \n",
    "        return 'academia'\n",
    "    elif 'tenure' in x: \n",
    "        return 'academia'\n",
    "    elif 'temporary' in x:\n",
    "        return 'contract'\n",
    "    elif 'contract' in x:\n",
    "        return 'contract'\n",
    "    elif 'part-time' in x:\n",
    "        return 'contract'\n",
    "    elif 'temporary' in x:\n",
    "        return 'contract'\n",
    "    elif 'internship' in x:\n",
    "        return 'intern'\n",
    "    elif 'intern' in x:\n",
    "        return 'intern'\n",
    "    elif 'apprenticeship' in x:\n",
    "        return 'intern'\n",
    "    else:\n",
    "        return 'uncategorized'\n",
    "    \n",
    "df['role_type'] = df['job_title'].apply(role_type)\n",
    "cos_df['role_type'] = cos_df['job_title'].apply(role_type)\n",
    "usa_df['role_type'] = usa_df['job_title'].apply(role_type)\n",
    "\n",
    "df_in = df.groupby('role_type').count().reset_index()[['role_type', 'job_title']]\n",
    "df_cos = cos_df.groupby('role_type').count().reset_index()[['role_type', 'job_title']]\n",
    "df_usa = usa_df.groupby('role_type').count().reset_index()[['role_type', 'job_title']]"
   ]
  },
  {
   "cell_type": "code",
   "execution_count": 11,
   "metadata": {},
   "outputs": [],
   "source": [
    "#Rename columns \n",
    "df_in.rename(columns = {'job_title':'total'}, inplace=True)\n",
    "df_cos.rename(columns = {'job_title':'total'}, inplace=True)\n",
    "df_usa.rename(columns = {'job_title':'total'}, inplace=True)"
   ]
  },
  {
   "cell_type": "code",
   "execution_count": 13,
   "metadata": {},
   "outputs": [
    {
     "data": {
      "text/html": [
       "<div>\n",
       "<style scoped>\n",
       "    .dataframe tbody tr th:only-of-type {\n",
       "        vertical-align: middle;\n",
       "    }\n",
       "\n",
       "    .dataframe tbody tr th {\n",
       "        vertical-align: top;\n",
       "    }\n",
       "\n",
       "    .dataframe thead th {\n",
       "        text-align: right;\n",
       "    }\n",
       "</style>\n",
       "<table border=\"1\" class=\"dataframe\">\n",
       "  <thead>\n",
       "    <tr style=\"text-align: right;\">\n",
       "      <th></th>\n",
       "      <th>role_type</th>\n",
       "      <th>total</th>\n",
       "    </tr>\n",
       "  </thead>\n",
       "  <tbody>\n",
       "    <tr>\n",
       "      <th>0</th>\n",
       "      <td>senior</td>\n",
       "      <td>6</td>\n",
       "    </tr>\n",
       "    <tr>\n",
       "      <th>1</th>\n",
       "      <td>uncategorized</td>\n",
       "      <td>256</td>\n",
       "    </tr>\n",
       "    <tr>\n",
       "      <th>2</th>\n",
       "      <td>upper mgmt</td>\n",
       "      <td>4</td>\n",
       "    </tr>\n",
       "  </tbody>\n",
       "</table>\n",
       "</div>"
      ],
      "text/plain": [
       "       role_type  total\n",
       "0         senior      6\n",
       "1  uncategorized    256\n",
       "2     upper mgmt      4"
      ]
     },
     "execution_count": 13,
     "metadata": {},
     "output_type": "execute_result"
    }
   ],
   "source": [
    "df_usa"
   ]
  },
  {
   "cell_type": "code",
   "execution_count": 14,
   "metadata": {},
   "outputs": [],
   "source": [
    "#Drop contract records from graph visualizations \n",
    "df_in = df_in[df_in['role_type'] != 'contract']\n",
    "df_cos = df_cos[df_cos['role_type'] != 'contract'] #contract total: 32\n",
    "df_usa = df_usa[df_usa['role_type'] != 'contract'] #contract total: n/a "
   ]
  },
  {
   "cell_type": "code",
   "execution_count": 15,
   "metadata": {},
   "outputs": [
    {
     "data": {
      "text/plain": [
       "[Text(0.5, 1.0, 'Job Levels in Indeed')]"
      ]
     },
     "execution_count": 15,
     "metadata": {},
     "output_type": "execute_result"
    },
    {
     "data": {
      "image/png": "[encoded data removed]",
      "text/plain": [
       "<Figure size 432x288 with 1 Axes>"
      ]
     },
     "metadata": {
      "needs_background": "light"
     },
     "output_type": "display_data"
    }
   ],
   "source": [
    "#Indeed \n",
    "g = sns.barplot(x='role_type', y='total', data=df_in, order=df_in.sort_values('total').role_type)\n",
    "g.set_xticklabels(['Intern', 'Academia', 'Entry-level', 'Upper Mgmt', 'Senior', 'Uncategorized'],\n",
    "rotation=30)\n",
    "g.set(title='Job Levels in Indeed')"
   ]
  },
  {
   "cell_type": "code",
   "execution_count": 16,
   "metadata": {},
   "outputs": [
    {
     "data": {
      "text/plain": [
       "[Text(0.5, 1.0, 'Job Levels in CareerOneStop')]"
      ]
     },
     "execution_count": 16,
     "metadata": {},
     "output_type": "execute_result"
    },
    {
     "data": {
      "image/png": "[encoded data removed]",
      "text/plain": [
       "<Figure size 432x288 with 1 Axes>"
      ]
     },
     "metadata": {
      "needs_background": "light"
     },
     "output_type": "display_data"
    }
   ],
   "source": [
    "#CareerOneStop \n",
    "g = sns.barplot(x='role_type', y='total', data=df_cos, order=df_cos.sort_values('total').role_type)\n",
    "g.set_xticklabels(['Intern', 'Academia', 'Entry-level', 'Upper Mgmt', 'Senior', 'Uncategorized'],\n",
    "rotation=30)\n",
    "g.set(title='Job Levels in CareerOneStop')"
   ]
  },
  {
   "cell_type": "code",
   "execution_count": 17,
   "metadata": {},
   "outputs": [
    {
     "data": {
      "text/plain": [
       "[Text(0.5, 1.0, 'Job Levels in USAJOBS')]"
      ]
     },
     "execution_count": 17,
     "metadata": {},
     "output_type": "execute_result"
    },
    {
     "data": {
      "image/png": "[encoded data removed]",
      "text/plain": [
       "<Figure size 432x288 with 1 Axes>"
      ]
     },
     "metadata": {
      "needs_background": "light"
     },
     "output_type": "display_data"
    }
   ],
   "source": [
    "#USAJOBS\n",
    "g = sns.barplot(x='role_type', y='total', data=df_usa, order=df_usa.sort_values('total').role_type)\n",
    "g.set(title='Job Levels in USAJOBS')"
   ]
  },
  {
   "cell_type": "code",
   "execution_count": 18,
   "metadata": {},
   "outputs": [],
   "source": [
    "#Creating function to evaluate position type column (e.g. full-time, part-time, contract, etc.)\n",
    "def pos_type(x):\n",
    "    if x == '[\"full-time\"]':\n",
    "        return 'full-time'\n",
    "    elif 'permanent' in x:\n",
    "        return 'full-time'\n",
    "    elif 'tenure' in x :\n",
    "        return 'academia'\n",
    "    elif 'internship' in x:\n",
    "        return 'internship'\n",
    "    elif 'apprenticeship' in x:\n",
    "        return 'internship'\n",
    "    else: \n",
    "        return 'contract'\n",
    "\n",
    "df['pos_type'] = df['job_type'].apply(pos_type)"
   ]
  },
  {
   "cell_type": "code",
   "execution_count": 20,
   "metadata": {},
   "outputs": [
    {
     "data": {
      "text/html": [
       "<div>\n",
       "<style scoped>\n",
       "    .dataframe tbody tr th:only-of-type {\n",
       "        vertical-align: middle;\n",
       "    }\n",
       "\n",
       "    .dataframe tbody tr th {\n",
       "        vertical-align: top;\n",
       "    }\n",
       "\n",
       "    .dataframe thead th {\n",
       "        text-align: right;\n",
       "    }\n",
       "</style>\n",
       "<table border=\"1\" class=\"dataframe\">\n",
       "  <thead>\n",
       "    <tr style=\"text-align: right;\">\n",
       "      <th></th>\n",
       "      <th>pos_type</th>\n",
       "      <th>total</th>\n",
       "    </tr>\n",
       "  </thead>\n",
       "  <tbody>\n",
       "    <tr>\n",
       "      <th>0</th>\n",
       "      <td>academia</td>\n",
       "      <td>21</td>\n",
       "    </tr>\n",
       "    <tr>\n",
       "      <th>1</th>\n",
       "      <td>contract</td>\n",
       "      <td>2782</td>\n",
       "    </tr>\n",
       "    <tr>\n",
       "      <th>2</th>\n",
       "      <td>full-time</td>\n",
       "      <td>7570</td>\n",
       "    </tr>\n",
       "    <tr>\n",
       "      <th>3</th>\n",
       "      <td>internship</td>\n",
       "      <td>43</td>\n",
       "    </tr>\n",
       "  </tbody>\n",
       "</table>\n",
       "</div>"
      ],
      "text/plain": [
       "     pos_type  total\n",
       "0    academia     21\n",
       "1    contract   2782\n",
       "2   full-time   7570\n",
       "3  internship     43"
      ]
     },
     "execution_count": 20,
     "metadata": {},
     "output_type": "execute_result"
    }
   ],
   "source": [
    "df_in_pos = df_in = df.groupby('pos_type').count().reset_index()[['pos_type', 'job_title']]\n",
    "df_in_pos.rename(columns = {'job_title':'total'}, inplace=True)\n",
    "df_in_pos"
   ]
  }
 ],
 "metadata": {
  "kernelspec": {
   "display_name": "Python 3",
   "language": "python",
   "name": "python3"
  },
  "language_info": {
   "codemirror_mode": {
    "name": "ipython",
    "version": 3
   },
   "file_extension": ".py",
   "mimetype": "text/x-python",
   "name": "python",
   "nbconvert_exporter": "python",
   "pygments_lexer": "ipython3",
   "version": "3.9.13"
  },
  "orig_nbformat": 4
 },
 "nbformat": 4,
 "nbformat_minor": 2
}
