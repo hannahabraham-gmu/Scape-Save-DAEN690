{
 "cells": [
  {
   "cell_type": "markdown",
   "id": "947a487d",
   "metadata": {},
   "source": [
    "## O*Net KSA Data Cleaning "
   ]
  },
  {
   "cell_type": "code",
   "execution_count": null,
   "id": "884a4f92",
   "metadata": {},
   "outputs": [],
   "source": [
    "import pandas as pd "
   ]
  },
  {
   "cell_type": "markdown",
   "id": "42e9ebee",
   "metadata": {},
   "source": [
    "### Knowledge "
   ]
  },
  {
   "cell_type": "code",
   "execution_count": null,
   "id": "a9a1d1e7",
   "metadata": {},
   "outputs": [],
   "source": [
    "knowledge = pd.read_csv(\"/Users/hanna/Code+Data/knowledge_onet.csv\")\n",
    "knowledge_desc = pd.read_csv(\"/Users/hanna/Code+Data/knowledge.csv\")"
   ]
  },
  {
   "cell_type": "code",
   "execution_count": null,
   "id": "c6dc9af7",
   "metadata": {
    "scrolled": true
   },
   "outputs": [],
   "source": [
    "knowledge"
   ]
  },
  {
   "cell_type": "code",
   "execution_count": null,
   "id": "96ddef86",
   "metadata": {},
   "outputs": [],
   "source": [
    "#joined with dataframe with knowledge descriptions \n",
    "know_j = knowledge.set_index('Element Name').join(knowledge_desc.set_index('Knowledge'))\n",
    "know_j.drop(columns=['Importance'], inplace=True)"
   ]
  },
  {
   "cell_type": "code",
   "execution_count": null,
   "id": "1705f773",
   "metadata": {},
   "outputs": [],
   "source": [
    "#filtered for cybersecurity-related roles \n",
    "know_update = know_j.query(\"Title == ['Information Security Analysts', 'Chief Executives', 'Computer Network Architects','Computer Systems Analysts', 'Computer and Information Research Scientists', 'Computer and Information Systems Managers','Information Technology Project Managers', 'Intelligence Analysts', 'Training and Development Specialists', 'Computer Systems Engineer/Architects', 'Computer Network Support Specialist'  ]\")"
   ]
  },
  {
   "cell_type": "code",
   "execution_count": null,
   "id": "662d03ec",
   "metadata": {
    "scrolled": false
   },
   "outputs": [],
   "source": [
    "know_update"
   ]
  },
  {
   "cell_type": "code",
   "execution_count": null,
   "id": "0c251164",
   "metadata": {},
   "outputs": [],
   "source": [
    "#create list to save scores\n",
    "scores = []\n",
    "\n",
    "#run through each row\n",
    "for i in range(len(know_update)):\n",
    "    #if scale id is IM\n",
    "    if know_update['Scale ID'][i] == 'IM':\n",
    "        #perform data manipulation and append to list\n",
    "        scores.append(((know_update['Data Value'][i])/5)*100)\n",
    "    else:\n",
    "        #perform data manipulation and append to list if not IM\n",
    "        scores.append(((know_update['Data Value'][i])/7)*100)\n",
    "#create new column in df w/scores from scores list\n",
    "know_update.insert(loc=5, column='Scores', value=scores)\n",
    "        "
   ]
  },
  {
   "cell_type": "code",
   "execution_count": null,
   "id": "7f9e3996",
   "metadata": {},
   "outputs": [],
   "source": [
    "know_update.reset_index(inplace=True)"
   ]
  },
  {
   "cell_type": "code",
   "execution_count": null,
   "id": "38edf227",
   "metadata": {},
   "outputs": [],
   "source": [
    "know_update"
   ]
  },
  {
   "cell_type": "markdown",
   "id": "cc62d66b",
   "metadata": {},
   "source": [
    "### Skills "
   ]
  },
  {
   "cell_type": "code",
   "execution_count": null,
   "id": "9555787a",
   "metadata": {},
   "outputs": [],
   "source": [
    "skills = pd.read_csv(\"/Users/hanna/Code+Data/skills_onet.csv\")\n",
    "skills_desc = pd.read_csv(\"/Users/hanna/Code+Data/skills.csv\")"
   ]
  },
  {
   "cell_type": "code",
   "execution_count": null,
   "id": "18c5dc70",
   "metadata": {},
   "outputs": [],
   "source": [
    "#joined with dataframe with skills descriptions \n",
    "skill_j = skills.set_index('Element Name').join(skills_desc.set_index('Skill'))\n",
    "skill_j.drop(columns=['Importance'], inplace=True)"
   ]
  },
  {
   "cell_type": "code",
   "execution_count": null,
   "id": "91936a49",
   "metadata": {},
   "outputs": [],
   "source": [
    "#filtered for cybersecurity-related roles \n",
    "skill_update = skill_j.query(\"Title == ['Information Security Analysts', 'Chief Executives', 'Computer Network Architects','Computer Systems Analysts', 'Computer and Information Research Scientists', 'Computer and Information Systems Managers','Information Technology Project Managers', 'Intelligence Analysts', 'Training and Development Specialists', 'Computer Systems Engineer/Architects', 'Computer Network Support Specialist'  ]\")"
   ]
  },
  {
   "cell_type": "code",
   "execution_count": null,
   "id": "61ee2cdd",
   "metadata": {},
   "outputs": [],
   "source": [
    "#create list to save scores\n",
    "scores = []\n",
    "\n",
    "#run through each row\n",
    "for i in range(len(skill_update)):\n",
    "    #if scale id is IM\n",
    "    if skill_update['Scale ID'][i] == 'IM':\n",
    "        #perform data manipulation and append to list\n",
    "        scores.append(((skill_update['Data Value'][i])/5)*100)\n",
    "    else:\n",
    "        #perform data manipulation and append to list if not IM\n",
    "        scores.append(((skill_update['Data Value'][i])/7)*100)\n",
    "#create new column in df w/scores from scores list\n",
    "skill_update.insert(loc=5, column='Scores', value=scores)"
   ]
  },
  {
   "cell_type": "code",
   "execution_count": null,
   "id": "9ee2d556",
   "metadata": {},
   "outputs": [],
   "source": [
    "skill_j.reset_index(inplace=True)"
   ]
  },
  {
   "cell_type": "markdown",
   "id": "2decf5c7",
   "metadata": {},
   "source": [
    "### Abilities"
   ]
  },
  {
   "cell_type": "code",
   "execution_count": null,
   "id": "bdd0524d",
   "metadata": {},
   "outputs": [],
   "source": [
    "ab = pd.read_csv(\"/Users/hanna/Code+Data/abilities_onet.csv\")\n",
    "ab_desc = pd.read_csv(\"/Users/hanna/Code+Data/abilities.csv\")"
   ]
  },
  {
   "cell_type": "code",
   "execution_count": null,
   "id": "3238e9d9",
   "metadata": {},
   "outputs": [],
   "source": [
    "#joined with dataframe with knowledge descriptions \n",
    "ab_j = ab.set_index('Element Name').join(ab_desc.set_index('Ability'))\n",
    "ab_j.drop(columns=['Importance'], inplace=True)"
   ]
  },
  {
   "cell_type": "code",
   "execution_count": null,
   "id": "addd8284",
   "metadata": {},
   "outputs": [],
   "source": [
    "#filtered for cybersecurity-related roles \n",
    "ab_update = ab_j.query(\"Title == ['Information Security Analysts', 'Chief Executives', 'Computer Network Architects','Computer Systems Analysts', 'Computer and Information Research Scientists', 'Computer and Information Systems Managers','Information Technology Project Managers', 'Intelligence Analysts', 'Training and Development Specialists', 'Computer Systems Engineer/Architects', 'Computer Network Support Specialist'  ]\")"
   ]
  },
  {
   "cell_type": "code",
   "execution_count": null,
   "id": "61b2bf27",
   "metadata": {},
   "outputs": [],
   "source": [
    "#create list to save scores\n",
    "scores = []\n",
    "\n",
    "#run through each row\n",
    "for i in range(len(ab_update)):\n",
    "    #if scale id is IM\n",
    "    if ab_update['Scale ID'][i] == 'IM':\n",
    "        #perform data manipulation and append to list\n",
    "        scores.append(((ab_update['Data Value'][i])/5)*100)\n",
    "    else:\n",
    "        #perform data manipulation and append to list if not IM\n",
    "        scores.append(((ab_update['Data Value'][i])/7)*100)\n",
    "#create new column in df w/scores from scores list\n",
    "ab_update.insert(loc=5, column='Scores', value=scores)"
   ]
  },
  {
   "cell_type": "code",
   "execution_count": null,
   "id": "74d511b2",
   "metadata": {},
   "outputs": [],
   "source": [
    "ab_j.reset_index(inplace=True)"
   ]
  }
 ],
 "metadata": {
  "kernelspec": {
   "display_name": "base",
   "language": "python",
   "name": "python3"
  },
  "language_info": {
   "codemirror_mode": {
    "name": "ipython",
    "version": 3
   },
   "file_extension": ".py",
   "mimetype": "text/x-python",
   "name": "python",
   "nbconvert_exporter": "python",
   "pygments_lexer": "ipython3",
   "version": "3.9.13"
  },
  "vscode": {
   "interpreter": {
    "hash": "112931f2ec7134fd2a5d5df8f7c5043f385bbfdcd20566460284acfb530a9f7d"
   }
  }
 },
 "nbformat": 4,
 "nbformat_minor": 5
}
